{
 "cells": [
  {
   "cell_type": "code",
   "execution_count": 39,
   "metadata": {},
   "outputs": [],
   "source": [
    "def create_graph():\n",
    "    with open('graph.txt', 'r') as g_file:\n",
    "        K = int(g_file.readline())\n",
    "        graph = {i: [] for i in range(1, K+1)}\n",
    "        for line in g_file:\n",
    "            i, j = map(int, line.split())\n",
    "            graph[i].append(j)\n",
    "    return graph"
   ]
  },
  {
   "cell_type": "code",
   "execution_count": 40,
   "metadata": {},
   "outputs": [],
   "source": [
    "def read_queries():\n",
    "    with open('queries.txt', 'r') as q_file:\n",
    "        queries = []\n",
    "        for line in q_file:\n",
    "            X, Y, Z = [], [], []\n",
    "            x, y, z = line.split()\n",
    "            X.extend(map(int, filter(bool, x[1:-1].split(','))))\n",
    "            Y.extend(map(int, filter(bool, y[1:-1].split(','))))\n",
    "            Z.extend(map(int, filter(bool, z[1:-1].split(','))))\n",
    "            queries.append([X, Y, Z])\n",
    "    return queries"
   ]
  },
  {
   "cell_type": "code",
   "execution_count": 41,
   "metadata": {},
   "outputs": [],
   "source": [
    "def is_independent(graph, X, Y, Z):\n",
    "    #phase 1:\n",
    "    L = Z.copy()\n",
    "    A = []\n",
    "    while len(L) > 0:\n",
    "        c = L.pop()\n",
    "        if c not in A:\n",
    "            for pa, ch in graph.items():\n",
    "                if c in ch:\n",
    "                    L.append(pa)\n",
    "            if c not in X:\n",
    "                if c not in Y:\n",
    "                    A.append(c)\n",
    "    #print(A)\n",
    "    \n",
    "    S = X.copy()\n",
    "    v = []\n",
    "    i = 0\n",
    "    while len(S) > 0:\n",
    "        c = S.pop()\n",
    "        i=i+1\n",
    "        #print('check iter_{}'.format(i))\n",
    "        if c not in v:\n",
    "            v.append(c)\n",
    "            for pa, ch in graph.items():\n",
    "                if c in ch:\n",
    "                    if pa in Y:\n",
    "                        #print('first false')\n",
    "                        return False\n",
    "                    if pa not in Z:\n",
    "                        if pa not in v:\n",
    "                            #print(S)\n",
    "                            S.append(pa)\n",
    "                if c == pa:\n",
    "                    for va in graph[c]:\n",
    "                        if va in Y:\n",
    "                            #print('second false')\n",
    "                            return False\n",
    "                        v.append(va)\n",
    "                        #print(v)\n",
    "                        for pa1, ch1 in graph.items():\n",
    "                            if va == pa1:\n",
    "                                if va in Z:\n",
    "                                    continue\n",
    "                                for va1 in graph[va]:\n",
    "                                    if va1 in Y:\n",
    "                                        #print('third false')\n",
    "                                        return False\n",
    "                                    if va not in Z:\n",
    "                                        if va1 not in v:\n",
    "                                            S.append(va1)\n",
    "                            if va in ch1:\n",
    "                                if va in A:\n",
    "                                    if pa1 in Y:\n",
    "                                        #print('fourth false')\n",
    "                                        return False\n",
    "                                    if pa1 not in Z:\n",
    "                                        if pa1 not in v:\n",
    "                                            S.append(va1)\n",
    "    return True"
   ]
  },
  {
   "cell_type": "code",
   "execution_count": 42,
   "metadata": {},
   "outputs": [
    {
     "name": "stdout",
     "output_type": "stream",
     "text": [
      "0\n",
      "1\n",
      "0\n"
     ]
    }
   ],
   "source": [
    "graph = create_graph()\n",
    "Qs = read_queries()\n",
    "for X, Y, Z in Qs:\n",
    "    output = 1 if is_independent(graph, X, Y, Z) else 0\n",
    "    print(output)"
   ]
  },
  {
   "cell_type": "code",
   "execution_count": null,
   "metadata": {},
   "outputs": [],
   "source": []
  }
 ],
 "metadata": {
  "kernelspec": {
   "display_name": "Python 3",
   "language": "python",
   "name": "python3"
  },
  "language_info": {
   "codemirror_mode": {
    "name": "ipython",
    "version": 3
   },
   "file_extension": ".py",
   "mimetype": "text/x-python",
   "name": "python",
   "nbconvert_exporter": "python",
   "pygments_lexer": "ipython3",
   "version": "3.6.5"
  }
 },
 "nbformat": 4,
 "nbformat_minor": 2
}
