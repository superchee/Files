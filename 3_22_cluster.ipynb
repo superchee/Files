{
 "cells": [
  {
   "cell_type": "code",
   "execution_count": 1,
   "metadata": {},
   "outputs": [
    {
     "name": "stderr",
     "output_type": "stream",
     "text": [
      "Using TensorFlow backend.\n"
     ]
    }
   ],
   "source": [
    "# data manipulation\n",
    "import pandas as pd\n",
    "import numpy as np\n",
    "\n",
    "# model training\n",
    "from sklearn.model_selection import GridSearchCV\n",
    "\n",
    "# classifiers\n",
    "from sklearn.naive_bayes import GaussianNB # naive bayes\n",
    "from sklearn.neighbors import KNeighborsClassifier # KNN\n",
    "from sklearn.svm import SVC # SVM\n",
    "from sklearn.ensemble import BaggingClassifier \n",
    "from sklearn.ensemble import AdaBoostClassifier\n",
    "from sklearn.ensemble import GradientBoostingClassifier\n",
    "\n",
    "# machine learning models/techniques third parties \n",
    "from sklearn.tree import DecisionTreeClassifier\n",
    "from sklearn.ensemble import RandomForestClassifier\n",
    "import sklearn.linear_model as sklm\n",
    "\n",
    "# for final validation to plot ROC curve\n",
    "from sklearn.model_selection import train_test_split\n",
    "from sklearn.metrics import roc_curve, auc\n",
    "\n",
    "%matplotlib inline\n",
    "\n",
    "from sklearn.model_selection import cross_val_score\n",
    "from sklearn import preprocessing\n",
    "\n",
    "from tensorflow import set_random_seed\n",
    "import keras\n",
    "from keras.models import Model\n",
    "from keras.layers import Input, Conv2D, Dense, Activation, MaxPool2D, Dropout, Flatten\n",
    "from keras import optimizers, losses\n",
    "from keras.models import model_from_json\n",
    "\n",
    "\n",
    "# to time experiments\n",
    "import time\n",
    "\n",
    "\n",
    "# to calculate kurtosis and skew\n",
    "from scipy.stats import kurtosis\n",
    "from scipy.stats import skew\n",
    "\n",
    "# for plots\n",
    "import seaborn as sns \n",
    "import matplotlib as pl\n",
    "import matplotlib.pyplot as plt\n",
    "\n",
    "import dataexp as dtex # our code\n",
    "import dataio as dtio # our code \n",
    "import preprocessing as pre # our code\n",
    "\n",
    "# to display pandas and other elements in html\n",
    "from IPython.display import display\n",
    "from IPython.core.display import HTML\n",
    "from IPython.display import Image\n",
    "\n",
    "# for ordered dictionaries \n",
    "from collections import OrderedDict\n",
    "\n",
    "# for feature extraction\n",
    "import feature_extraction as fe # our code\n",
    "\n",
    "# machine learning models/techniques\n",
    "import model_validation as me # our code\n",
    "#from decision_tree import DecisionTree # our code\n",
    "#from random_forest import RandomForest # our code\n",
    "from logistic_regression import LogisticRegression # our code\n",
    "\n",
    "\n",
    "\n",
    "\n",
    "\n",
    "# ignore warnings\n",
    "import warnings\n",
    "warnings.filterwarnings('ignore')"
   ]
  },
  {
   "cell_type": "code",
   "execution_count": 112,
   "metadata": {},
   "outputs": [],
   "source": [
    "x_train_o = pd.read_csv('financial_data.csv')\n",
    "y_train_o = pd.read_csv('revealed_businesses.csv')\n",
    "\n",
    "x_test_o = pd.read_csv(\"testing_data.csv\")"
   ]
  },
  {
   "cell_type": "code",
   "execution_count": 113,
   "metadata": {},
   "outputs": [],
   "source": [
    "x_train_o.replace('?', np.nan, inplace=True)\n",
    "x_train_o = x_train_o.astype('float64')\n",
    "\n",
    "\n",
    "x_test_o.replace('?', np.nan, inplace=True)\n",
    "x_test_o = x_test_o.astype('float64')"
   ]
  },
  {
   "cell_type": "code",
   "execution_count": 114,
   "metadata": {},
   "outputs": [],
   "source": [
    "data_train_all = x_train_o.merge(y_train_o, on='Var1', how = 'left')\n"
   ]
  },
  {
   "cell_type": "code",
   "execution_count": 178,
   "metadata": {},
   "outputs": [],
   "source": [
    "data_nolabel = data_train_all[data_train_all.Var66.isnull()]\n",
    "data_label = data_train_all[data_train_all.Var66.notnull()]"
   ]
  },
  {
   "cell_type": "code",
   "execution_count": 179,
   "metadata": {},
   "outputs": [],
   "source": [
    "data_nolabel_v = data_nolabel.drop(columns=['Var1', 'Var66'])\n",
    "data_nolabel_id = data_nolabel['Var1']\n",
    "\n",
    "data_label_v = data_label.drop(columns=['Var1', 'Var66'])\n",
    "data_label_id = data_label['Var1']"
   ]
  },
  {
   "cell_type": "code",
   "execution_count": 180,
   "metadata": {},
   "outputs": [],
   "source": [
    "data_nolabel_v_f = data_nolabel_v.fillna(data_nolabel_v.mean())\n",
    "data_label_v_f = data_label_v.fillna(data_label_v.mean())"
   ]
  },
  {
   "cell_type": "code",
   "execution_count": 181,
   "metadata": {},
   "outputs": [],
   "source": [
    "data_nolabel_v_f = pd.DataFrame(preprocessing.StandardScaler().fit_transform(data_nolabel_v_f),columns = data_nolabel_v_f.columns)\n",
    "data_label_v_f = pd.DataFrame(preprocessing.StandardScaler().fit_transform(data_label_v_f),columns = data_label_v_f.columns)"
   ]
  },
  {
   "cell_type": "code",
   "execution_count": 182,
   "metadata": {},
   "outputs": [
    {
     "data": {
      "text/plain": [
       "(4124, 64)"
      ]
     },
     "execution_count": 182,
     "metadata": {},
     "output_type": "execute_result"
    }
   ],
   "source": [
    "X_pred = data_nolabel_v_f.iloc[:,:].values\n",
    "X_pred.shape"
   ]
  },
  {
   "cell_type": "code",
   "execution_count": 183,
   "metadata": {},
   "outputs": [
    {
     "data": {
      "text/plain": [
       "(4879, 64)"
      ]
     },
     "execution_count": 183,
     "metadata": {},
     "output_type": "execute_result"
    }
   ],
   "source": [
    "X = data_label_v_f.iloc[:,:].values\n",
    "y = data_label['Var66'].values\n",
    "X.shape"
   ]
  },
  {
   "cell_type": "code",
   "execution_count": 184,
   "metadata": {},
   "outputs": [],
   "source": [
    "def eucliden(X, c):\n",
    "    c = c.reshape(1, X.shape[1]) # 1 x p\n",
    "    distances = np.sqrt(np.sum((X - c) ** 2, axis=1))\n",
    "    return distances"
   ]
  },
  {
   "cell_type": "code",
   "execution_count": 185,
   "metadata": {},
   "outputs": [],
   "source": [
    "result = []\n",
    "for test_x in X_pred:\n",
    "    distances = eucliden(X, test_x)\n",
    "    indexs = np.argsort(distances)[0:3]\n",
    "    label = 1 if y[indexs].sum()>1 else 0\n",
    "    result.append(label)"
   ]
  },
  {
   "cell_type": "code",
   "execution_count": 186,
   "metadata": {},
   "outputs": [
    {
     "data": {
      "text/plain": [
       "0    4059\n",
       "1      65\n",
       "Name: Var66, dtype: int64"
      ]
     },
     "execution_count": 186,
     "metadata": {},
     "output_type": "execute_result"
    }
   ],
   "source": [
    "y_pred = pd.DataFrame(result, columns=[\"Var66\"])\n",
    "y_pred['Var66'].value_counts()"
   ]
  },
  {
   "cell_type": "code",
   "execution_count": 154,
   "metadata": {},
   "outputs": [],
   "source": [
    "#data_nolabel_selected_stand = pd.DataFrame(preprocessing.StandardScaler().fit_transform(data_nolabel_selected),columns = data_nolabel_selected.columns)\n",
    "data_nolabel_selected_stand = data_nolabel_selected.reset_index().drop(columns=['index'])"
   ]
  },
  {
   "cell_type": "code",
   "execution_count": 155,
   "metadata": {},
   "outputs": [],
   "source": [
    "data_nolabel_id_noidx = data_nolabel_id.reset_index()['Var1']\n",
    "data_nolabel_v = data_nolabel_v.reset_index().drop(columns=['index'])"
   ]
  },
  {
   "cell_type": "code",
   "execution_count": 156,
   "metadata": {},
   "outputs": [],
   "source": [
    "\n",
    "data_nolabel_pred = pd.concat([data_nolabel_id_noidx, data_nolabel_v_f, y_pred], axis=1)"
   ]
  },
  {
   "cell_type": "code",
   "execution_count": 157,
   "metadata": {},
   "outputs": [
    {
     "data": {
      "text/plain": [
       "0    3659\n",
       "1     465\n",
       "Name: Var66, dtype: int64"
      ]
     },
     "execution_count": 157,
     "metadata": {},
     "output_type": "execute_result"
    }
   ],
   "source": [
    "data_nolabel_pred['Var66'].value_counts()"
   ]
  },
  {
   "cell_type": "code",
   "execution_count": 158,
   "metadata": {},
   "outputs": [],
   "source": [
    "data_label_fill = data_label.fillna(data_label.mean())"
   ]
  },
  {
   "cell_type": "code",
   "execution_count": 159,
   "metadata": {},
   "outputs": [],
   "source": [
    "data_tran_all  = pd.concat([data_label_fill, data_nolabel_pred], axis=0)"
   ]
  },
  {
   "cell_type": "code",
   "execution_count": 160,
   "metadata": {},
   "outputs": [
    {
     "data": {
      "text/html": [
       "<div>\n",
       "<style scoped>\n",
       "    .dataframe tbody tr th:only-of-type {\n",
       "        vertical-align: middle;\n",
       "    }\n",
       "\n",
       "    .dataframe tbody tr th {\n",
       "        vertical-align: top;\n",
       "    }\n",
       "\n",
       "    .dataframe thead th {\n",
       "        text-align: right;\n",
       "    }\n",
       "</style>\n",
       "<table border=\"1\" class=\"dataframe\">\n",
       "  <thead>\n",
       "    <tr style=\"text-align: right;\">\n",
       "      <th></th>\n",
       "      <th>Var1</th>\n",
       "      <th>Var2</th>\n",
       "      <th>Var3</th>\n",
       "      <th>Var4</th>\n",
       "      <th>Var5</th>\n",
       "      <th>Var6</th>\n",
       "      <th>Var7</th>\n",
       "      <th>Var8</th>\n",
       "      <th>Var9</th>\n",
       "      <th>Var10</th>\n",
       "      <th>...</th>\n",
       "      <th>Var57</th>\n",
       "      <th>Var58</th>\n",
       "      <th>Var59</th>\n",
       "      <th>Var60</th>\n",
       "      <th>Var61</th>\n",
       "      <th>Var62</th>\n",
       "      <th>Var63</th>\n",
       "      <th>Var64</th>\n",
       "      <th>Var65</th>\n",
       "      <th>Var66</th>\n",
       "    </tr>\n",
       "  </thead>\n",
       "  <tbody>\n",
       "    <tr>\n",
       "      <th>0</th>\n",
       "      <td>18399.0</td>\n",
       "      <td>0.023954</td>\n",
       "      <td>0.150120</td>\n",
       "      <td>0.39567</td>\n",
       "      <td>3.63570</td>\n",
       "      <td>54.043</td>\n",
       "      <td>0.028822</td>\n",
       "      <td>0.031029</td>\n",
       "      <td>4.56831</td>\n",
       "      <td>1.01120</td>\n",
       "      <td>...</td>\n",
       "      <td>0.011041</td>\n",
       "      <td>0.034914</td>\n",
       "      <td>0.98896</td>\n",
       "      <td>0.000000</td>\n",
       "      <td>9.5214</td>\n",
       "      <td>5.8248</td>\n",
       "      <td>34.713</td>\n",
       "      <td>10.5150</td>\n",
       "      <td>3.4752</td>\n",
       "      <td>0.0</td>\n",
       "    </tr>\n",
       "    <tr>\n",
       "      <th>2</th>\n",
       "      <td>19821.0</td>\n",
       "      <td>-0.356310</td>\n",
       "      <td>0.392880</td>\n",
       "      <td>0.15884</td>\n",
       "      <td>1.40430</td>\n",
       "      <td>-2.619</td>\n",
       "      <td>-0.085597</td>\n",
       "      <td>-0.356320</td>\n",
       "      <td>1.54531</td>\n",
       "      <td>0.92963</td>\n",
       "      <td>...</td>\n",
       "      <td>-0.172770</td>\n",
       "      <td>-0.586910</td>\n",
       "      <td>1.38330</td>\n",
       "      <td>0.000000</td>\n",
       "      <td>5.6112</td>\n",
       "      <td>15.7790</td>\n",
       "      <td>154.260</td>\n",
       "      <td>2.3662</td>\n",
       "      <td>2.0738</td>\n",
       "      <td>0.0</td>\n",
       "    </tr>\n",
       "    <tr>\n",
       "      <th>6</th>\n",
       "      <td>17769.0</td>\n",
       "      <td>0.004100</td>\n",
       "      <td>0.723040</td>\n",
       "      <td>-0.47065</td>\n",
       "      <td>0.34907</td>\n",
       "      <td>-169.230</td>\n",
       "      <td>0.000000</td>\n",
       "      <td>0.004090</td>\n",
       "      <td>0.38306</td>\n",
       "      <td>1.10920</td>\n",
       "      <td>...</td>\n",
       "      <td>-0.096542</td>\n",
       "      <td>0.014766</td>\n",
       "      <td>0.99667</td>\n",
       "      <td>0.000000</td>\n",
       "      <td>15.8971</td>\n",
       "      <td>6.2881</td>\n",
       "      <td>237.920</td>\n",
       "      <td>1.5341</td>\n",
       "      <td>1.4837</td>\n",
       "      <td>0.0</td>\n",
       "    </tr>\n",
       "    <tr>\n",
       "      <th>7</th>\n",
       "      <td>19309.0</td>\n",
       "      <td>0.024596</td>\n",
       "      <td>0.084252</td>\n",
       "      <td>0.38657</td>\n",
       "      <td>5.58830</td>\n",
       "      <td>44.886</td>\n",
       "      <td>0.174290</td>\n",
       "      <td>0.028695</td>\n",
       "      <td>10.19801</td>\n",
       "      <td>1.00690</td>\n",
       "      <td>...</td>\n",
       "      <td>0.006825</td>\n",
       "      <td>0.028616</td>\n",
       "      <td>0.99317</td>\n",
       "      <td>0.000000</td>\n",
       "      <td>26.1531</td>\n",
       "      <td>15.2470</td>\n",
       "      <td>12.723</td>\n",
       "      <td>28.6870</td>\n",
       "      <td>4.5674</td>\n",
       "      <td>0.0</td>\n",
       "    </tr>\n",
       "    <tr>\n",
       "      <th>9</th>\n",
       "      <td>20728.0</td>\n",
       "      <td>0.036710</td>\n",
       "      <td>0.416930</td>\n",
       "      <td>0.13777</td>\n",
       "      <td>1.37330</td>\n",
       "      <td>-18.123</td>\n",
       "      <td>0.037957</td>\n",
       "      <td>0.050825</td>\n",
       "      <td>1.28881</td>\n",
       "      <td>0.99111</td>\n",
       "      <td>...</td>\n",
       "      <td>-0.008967</td>\n",
       "      <td>0.068297</td>\n",
       "      <td>1.00900</td>\n",
       "      <td>0.089127</td>\n",
       "      <td>7.6912</td>\n",
       "      <td>5.5223</td>\n",
       "      <td>84.191</td>\n",
       "      <td>4.3354</td>\n",
       "      <td>3.2441</td>\n",
       "      <td>0.0</td>\n",
       "    </tr>\n",
       "  </tbody>\n",
       "</table>\n",
       "<p>5 rows × 66 columns</p>\n",
       "</div>"
      ],
      "text/plain": [
       "      Var1      Var2      Var3     Var4     Var5     Var6      Var7      Var8  \\\n",
       "0  18399.0  0.023954  0.150120  0.39567  3.63570   54.043  0.028822  0.031029   \n",
       "2  19821.0 -0.356310  0.392880  0.15884  1.40430   -2.619 -0.085597 -0.356320   \n",
       "6  17769.0  0.004100  0.723040 -0.47065  0.34907 -169.230  0.000000  0.004090   \n",
       "7  19309.0  0.024596  0.084252  0.38657  5.58830   44.886  0.174290  0.028695   \n",
       "9  20728.0  0.036710  0.416930  0.13777  1.37330  -18.123  0.037957  0.050825   \n",
       "\n",
       "       Var9    Var10  ...       Var57     Var58    Var59     Var60    Var61  \\\n",
       "0   4.56831  1.01120  ...    0.011041  0.034914  0.98896  0.000000   9.5214   \n",
       "2   1.54531  0.92963  ...   -0.172770 -0.586910  1.38330  0.000000   5.6112   \n",
       "6   0.38306  1.10920  ...   -0.096542  0.014766  0.99667  0.000000  15.8971   \n",
       "7  10.19801  1.00690  ...    0.006825  0.028616  0.99317  0.000000  26.1531   \n",
       "9   1.28881  0.99111  ...   -0.008967  0.068297  1.00900  0.089127   7.6912   \n",
       "\n",
       "     Var62    Var63    Var64   Var65  Var66  \n",
       "0   5.8248   34.713  10.5150  3.4752    0.0  \n",
       "2  15.7790  154.260   2.3662  2.0738    0.0  \n",
       "6   6.2881  237.920   1.5341  1.4837    0.0  \n",
       "7  15.2470   12.723  28.6870  4.5674    0.0  \n",
       "9   5.5223   84.191   4.3354  3.2441    0.0  \n",
       "\n",
       "[5 rows x 66 columns]"
      ]
     },
     "execution_count": 160,
     "metadata": {},
     "output_type": "execute_result"
    }
   ],
   "source": [
    "data_tran_all.head()"
   ]
  },
  {
   "cell_type": "code",
   "execution_count": 161,
   "metadata": {},
   "outputs": [
    {
     "data": {
      "text/plain": [
       "0"
      ]
     },
     "execution_count": 161,
     "metadata": {},
     "output_type": "execute_result"
    }
   ],
   "source": [
    "data_nolabel_pred.isnull().sum().sum()"
   ]
  },
  {
   "cell_type": "code",
   "execution_count": 162,
   "metadata": {},
   "outputs": [
    {
     "name": "stdout",
     "output_type": "stream",
     "text": [
      "original dataset (labels): {0.0: 8368, 1.0: 635}\n",
      "total: 9003\n",
      "resampled dataset (labels): {0.0: 8368, 1.0: 8368}\n",
      "total: 16736\n",
      "\n"
     ]
    }
   ],
   "source": [
    "os_dfs_dict = OrderedDict()\n",
    "\n",
    "os_dfs_dict['mean'] = pre.oversample_smote(data_tran_all, columns = data_tran_all.columns, verbose=True)"
   ]
  },
  {
   "cell_type": "code",
   "execution_count": 163,
   "metadata": {},
   "outputs": [],
   "source": [
    "x_test_business_id = x_test_o['Var1']\n",
    "x_test = x_test_o.drop(columns=['Var1'])\n",
    "x_test_f = x_test.fillna(x_test.mean())"
   ]
  },
  {
   "cell_type": "code",
   "execution_count": 164,
   "metadata": {},
   "outputs": [],
   "source": [
    "best_period = os_dfs_dict['mean'][0]\n",
    "X = best_period.iloc[:,1:-1].values\n",
    "y = best_period[\"Var66\"].values\n",
    "\n",
    "random_forest_classifier_sklearn_roc_all = RandomForestClassifier(criterion=\"gini\", \n",
    "                                                          n_estimators = 10,\n",
    "                                                          max_features = \"sqrt\", \n",
    "                                                          random_state = 94)\n",
    "\n",
    "random_forest_classifier_sklearn_roc_all.fit(X, y)\n",
    "y_pred_dt = random_forest_classifier_sklearn_roc_all.predict(x_test_f)\n"
   ]
  },
  {
   "cell_type": "code",
   "execution_count": 165,
   "metadata": {},
   "outputs": [
    {
     "data": {
      "text/plain": [
       "0    1463\n",
       "1      37\n",
       "Name: Is_Bankrupted, dtype: int64"
      ]
     },
     "execution_count": 165,
     "metadata": {},
     "output_type": "execute_result"
    }
   ],
   "source": [
    "df_y = pd.DataFrame(y_pred_dt, columns=[\"Is_Bankrupted\"])\n",
    "upload = pd.concat([x_test_business_id, df_y], axis=1)\n",
    "df_y[\"Is_Bankrupted\"].value_counts()"
   ]
  },
  {
   "cell_type": "code",
   "execution_count": 166,
   "metadata": {},
   "outputs": [],
   "source": [
    "upload = upload.astype('int32')\n",
    "upload.columns=['Business_ID', 'Is_Bankrupted']\n",
    "upload.to_csv('3_22_2.csv', index=False)"
   ]
  },
  {
   "cell_type": "code",
   "execution_count": null,
   "metadata": {},
   "outputs": [],
   "source": []
  },
  {
   "cell_type": "code",
   "execution_count": null,
   "metadata": {},
   "outputs": [],
   "source": []
  }
 ],
 "metadata": {
  "kernelspec": {
   "display_name": "Python 3",
   "language": "python",
   "name": "python3"
  },
  "language_info": {
   "codemirror_mode": {
    "name": "ipython",
    "version": 3
   },
   "file_extension": ".py",
   "mimetype": "text/x-python",
   "name": "python",
   "nbconvert_exporter": "python",
   "pygments_lexer": "ipython3",
   "version": "3.7.1"
  }
 },
 "nbformat": 4,
 "nbformat_minor": 2
}
