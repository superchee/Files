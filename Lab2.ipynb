{
 "cells": [
  {
   "cell_type": "code",
   "execution_count": 1,
   "metadata": {},
   "outputs": [],
   "source": [
    "import matplotlib\n",
    "matplotlib.use('Agg')\n",
    "import numpy as np\n",
    "import glob\n",
    "import matplotlib.pyplot as plt\n",
    "from PIL import Image, ImageOps"
   ]
  },
  {
   "cell_type": "code",
   "execution_count": 2,
   "metadata": {},
   "outputs": [],
   "source": [
    "def load_image(fname):\n",
    "    img = Image.open(fname).resize((32, 32))\n",
    "    img_gray = img.convert('L')\n",
    "    img_eq = ImageOps.autocontrast(img_gray)\n",
    "    img_eq = np.array(img_eq.getdata()).reshape((img_eq.size[1], -1))\n",
    "    return img_eq"
   ]
  },
  {
   "cell_type": "code",
   "execution_count": 3,
   "metadata": {},
   "outputs": [],
   "source": [
    "def binarize_image(img_eq):\n",
    "    img_bin = np.copy(img_eq)\n",
    "    img_bin[img_bin < 128] = -1\n",
    "    img_bin[img_bin >= 128] = 1\n",
    "    return img_bin\n"
   ]
  },
  {
   "cell_type": "code",
   "execution_count": 4,
   "metadata": {},
   "outputs": [],
   "source": [
    "def add_corruption(img):\n",
    "    img = img.reshape((32, 32))\n",
    "    t = np.random.choice(3)\n",
    "    if t == 0:\n",
    "        i = np.random.randint(32)\n",
    "        img[i:(i + 8)] = -1\n",
    "    elif t == 1:\n",
    "        i = np.random.randint(32)\n",
    "        img[:, i:(i + 8)] = -1\n",
    "    else:\n",
    "        mask = np.sum([np.diag(-np.ones(32 - np.abs(i)), i)\n",
    "                       for i in np.arange(-4, 5)], 0).astype(np.int)\n",
    "        img[mask == -1] = -1\n",
    "    return img.ravel()\n"
   ]
  },
  {
   "cell_type": "code",
   "execution_count": 5,
   "metadata": {},
   "outputs": [],
   "source": [
    "def learn_hebbian(imgs):\n",
    "    img_size = np.prod(imgs[0].shape)\n",
    "    ######################################################################\n",
    "    ######################################################################\n",
    "    weights = np.zeros((img_size, img_size))\n",
    "    bias = np.zeros(img_size)\n",
    "    # Complete this function\n",
    "    # You are allowed to modify anything between these lines\n",
    "    # Helper functions are allowed\n",
    "    #######################################################################\n",
    "    #######################################################################\n",
    "    weights = np.zeros([img_size, img_size])\n",
    "    for data in imgs:\n",
    "        weights += np.outer(data, data)\n",
    "    for diag in range(img_size):\n",
    "        weights[diag][diag] = 0  \n",
    "    \n",
    "    return weights, bias\n"
   ]
  },
  {
   "cell_type": "code",
   "execution_count": 6,
   "metadata": {},
   "outputs": [],
   "source": [
    "def learn_maxpl(imgs):\n",
    "    img_size = np.prod(imgs[0].shape)\n",
    "    ######################################################################\n",
    "    ######################################################################\n",
    "    weights = np.zeros((img_size, img_size))\n",
    "    bias = np.zeros(img_size)\n",
    "    # Complete this function\n",
    "    # You are allowed to modify anything between these lines\n",
    "    # Helper functions are allowed\n",
    "    #######################################################################\n",
    "    #######################################################################\n",
    "    return weights, bias\n"
   ]
  },
  {
   "cell_type": "code",
   "execution_count": 7,
   "metadata": {},
   "outputs": [],
   "source": [
    "def plot_results(imgs, cimgs, rimgs, fname='result.png'):\n",
    "    '''\n",
    "    This helper function can be used to visualize results.\n",
    "    '''\n",
    "    img_dim = 32\n",
    "    assert imgs.shape[0] == cimgs.shape[0] == rimgs.shape[0]\n",
    "    n_imgs = imgs.shape[0]\n",
    "    fig, axn = plt.subplots(n_imgs, 3, figsize=[8, 8])\n",
    "    for j in range(n_imgs):\n",
    "        axn[j][0].axis('off')\n",
    "        axn[j][0].imshow(imgs[j].reshape(img_dim, img_dim), cmap='Greys_r')\n",
    "    axn[0, 0].set_title('True')\n",
    "    for j in range(n_imgs):\n",
    "        axn[j][1].axis('off')\n",
    "        axn[j][1].imshow(cimgs[j].reshape(img_dim, img_dim), cmap='Greys_r')\n",
    "    axn[0, 1].set_title('Corrupted')\n",
    "    for j in range(n_imgs):\n",
    "        axn[j][2].axis('off')\n",
    "        axn[j][2].imshow(rimgs[j].reshape((img_dim, img_dim)), cmap='Greys_r')\n",
    "    axn[0, 2].set_title('Recovered')\n",
    "    fig.tight_layout()\n",
    "    plt.savefig(fname)"
   ]
  },
  {
   "cell_type": "code",
   "execution_count": 15,
   "metadata": {},
   "outputs": [],
   "source": [
    "def retrieve_pattern(weights, b, data, steps=10):\n",
    "    res = np.array(data)\n",
    "\n",
    "    for _ in range(steps):\n",
    "        for i in range(len(res)):\n",
    "            raw_v = np.dot(weights[i], res) + b[i]\n",
    "            if raw_v > 0:\n",
    "                res[i] = 1\n",
    "            else:\n",
    "                res[i] = -1\n",
    "    return res"
   ]
  },
  {
   "cell_type": "code",
   "execution_count": 16,
   "metadata": {},
   "outputs": [],
   "source": [
    "def recover(cimgs, W, b):\n",
    "    img_size = np.prod(cimgs[0].shape)\n",
    "    ######################################################################\n",
    "    ######################################################################\n",
    "    rimgs = []\n",
    "    # Complete this function\n",
    "    # You are allowed to modify anything between these lines\n",
    "    # Helper functions are allowed\n",
    "    #######################################################################\n",
    "    #######################################################################\n",
    "    for data in cimgs:\n",
    "        predicted_data = retrieve_pattern(W, b, data)\n",
    "        rimgs.append(predicted_data)    \n",
    "    return np.array(rimgs)\n"
   ]
  },
  {
   "cell_type": "code",
   "execution_count": 17,
   "metadata": {},
   "outputs": [],
   "source": [
    "def main():\n",
    "    # Load Images and Binarize\n",
    "    ifiles = sorted(glob.glob('images/*'))\n",
    "    timgs = [load_image(ifile) for ifile in ifiles]\n",
    "    imgs = np.asarray([binarize_image(img).ravel() for img in timgs])\n",
    "\n",
    "    # Add corruption\n",
    "    cimgs = []\n",
    "    for i, img in enumerate(imgs):\n",
    "        cimgs.append(add_corruption(np.copy(imgs[i])))\n",
    "    cimgs = np.asarray(cimgs)\n",
    "\n",
    "    # Recover 1 -- Hebbian\n",
    "    Wh, bh = learn_hebbian(imgs)\n",
    "    rimgs_h = recover(cimgs, Wh, bh)\n",
    "    np.save('hebbian.npy', rimgs_h)\n",
    "\n",
    "    # Recover 2 -- Max Pseudo Likelihood\n",
    "    Wmpl, bmpl = learn_maxpl(imgs)\n",
    "    rimgs_mpl = recover(cimgs, Wmpl, bmpl)\n",
    "    np.save('mpl.npy', rimgs_mpl)\n",
    "\n",
    "    plot_results(imgs, cimgs, rimgs_h, fname='result.png')\n"
   ]
  },
  {
   "cell_type": "code",
   "execution_count": 18,
   "metadata": {},
   "outputs": [],
   "source": [
    "if __name__ == '__main__':\n",
    "    main()\n"
   ]
  },
  {
   "cell_type": "code",
   "execution_count": null,
   "metadata": {},
   "outputs": [],
   "source": []
  }
 ],
 "metadata": {
  "kernelspec": {
   "display_name": "Python 3",
   "language": "python",
   "name": "python3"
  },
  "language_info": {
   "codemirror_mode": {
    "name": "ipython",
    "version": 3
   },
   "file_extension": ".py",
   "mimetype": "text/x-python",
   "name": "python",
   "nbconvert_exporter": "python",
   "pygments_lexer": "ipython3",
   "version": "3.7.1"
  }
 },
 "nbformat": 4,
 "nbformat_minor": 2
}
