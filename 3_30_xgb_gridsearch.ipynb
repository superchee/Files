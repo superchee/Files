{
 "cells": [
  {
   "cell_type": "code",
   "execution_count": 1,
   "metadata": {},
   "outputs": [],
   "source": [
    "import numpy as np\n",
    "import pandas as pd\n",
    "import matplotlib.pyplot as plt\n",
    "import seaborn as sns\n",
    "import math\n",
    "# functions needed for pr_auc_score()\n",
    "from sklearn.metrics import auc, precision_recall_curve\n",
    "from sklearn import metrics\n",
    "\n",
    "# functions needed for imbalanced_cross_validation_score()\n",
    "from sklearn.model_selection import StratifiedKFold\n",
    "\n",
    "# sampler objects\n",
    "from imblearn.over_sampling import RandomOverSampler, SMOTE, ADASYN\n",
    "from imblearn.under_sampling import RandomUnderSampler\n",
    "\n",
    "# Classification models to compare\n",
    "from sklearn.linear_model import LogisticRegression\n",
    "from sklearn.ensemble import RandomForestClassifier, ExtraTreesClassifier, AdaBoostClassifier\n",
    "from sklearn.neural_network import MLPClassifier\n",
    "from sklearn.naive_bayes import GaussianNB # naive bayes\n",
    "from sklearn.neighbors import KNeighborsClassifier # KNN\n",
    "from sklearn.svm import SVC # SVM\n",
    "from imblearn.ensemble import BalancedBaggingClassifier\n",
    "\n",
    "from sklearn.metrics import matthews_corrcoef\n",
    "\n",
    "from sklearn import preprocessing \n",
    "\n",
    "# ignore warnings\n",
    "import warnings\n",
    "warnings.filterwarnings('ignore')"
   ]
  },
  {
   "cell_type": "code",
   "execution_count": 2,
   "metadata": {},
   "outputs": [],
   "source": [
    "def pr_auc_score(clf, x, y):\n",
    "\n",
    "    precisions, recalls,_ = precision_recall_curve(y, clf.predict_proba(x)[:,1], pos_label=1)\n",
    "    \n",
    "    return auc(recalls, precisions)"
   ]
  },
  {
   "cell_type": "code",
   "execution_count": 3,
   "metadata": {},
   "outputs": [],
   "source": [
    "def Confusion_matrix(clf, x, y):\n",
    "    cm = metrics.confusion_matrix(y, clf.predict(x))\n",
    "    mcc = matthews_corrcoef(y, clf.predict(x))\n",
    "    \n",
    "    return (cm[0][0], cm[0][1], cm[1][0], cm[1][1], mcc)"
   ]
  },
  {
   "cell_type": "code",
   "execution_count": 4,
   "metadata": {},
   "outputs": [],
   "source": [
    "def imbalanced_cross_validation_score(clf, x, y, cv, scoring, sampler):\n",
    "    \n",
    "    cv_score = 0.\n",
    "    train_score = 0.\n",
    "    test_score = 0.\n",
    "    TP = 0\n",
    "    FP = 0\n",
    "    FN = 0\n",
    "    TN = 0\n",
    "    MCC = 0\n",
    "    \n",
    "    # stratified k-fold creates folds with the same ratio of positive \n",
    "    # and negative samples as the entire dataset.\n",
    "    \n",
    "    skf = StratifiedKFold(n_splits=cv, random_state=0, shuffle=False)\n",
    "    \n",
    "    for train_idx, test_idx in skf.split(x,y):\n",
    "        \n",
    "        xfold_train_sampled, yfold_train_sampled = sampler.fit_sample(x[train_idx],y[train_idx])\n",
    "        clf.fit(xfold_train_sampled, yfold_train_sampled)\n",
    "        \n",
    "        TN_train, FP_train, FN_train, TP_train, mcc_train = scoring(clf, xfold_train_sampled, yfold_train_sampled)\n",
    "        TN_test, FP_test, FN_test, TP_test, mcc_test  = scoring(clf, x[test_idx], y[test_idx])\n",
    "        # tn, fp, fn, tp\n",
    "        print(\"Train TP: {0} Train FP: {1} Train FN: {2} Train TN: {3}; Test TP: {4} Test FP: {5} Test FN: {6} Test TN: {7}\".format(TP_train, FP_train, FN_train, TN_train, TP_test, FP_test, FN_test, TN_test))\n",
    "        print(\"MCC train: {0} and MCC test: {1}\".format(mcc_train, mcc_test))\n",
    "        \n",
    "        TP += TP_test\n",
    "        FP += FP_test\n",
    "        FN += FN_test\n",
    "        TN += TN_test\n",
    "        MCC += mcc_test\n",
    "\n",
    "    ave_tp = TP/cv\n",
    "    ave_fp = FP/cv\n",
    "    ave_fn = FN/cv\n",
    "    ave_tn = TN/cv\n",
    "    ave_mcc = MCC/cv\n",
    "    \n",
    "    sensitivity = ave_tp/(ave_tp + ave_fn)\n",
    "    specificity = ave_tn/(ave_fp + ave_tn)\n",
    "    \n",
    "    g_mean = math.sqrt(sensitivity * specificity)\n",
    "    \n",
    "    values = [sensitivity, specificity, g_mean, ave_mcc]\n",
    "    \n",
    "        \n",
    "    return values"
   ]
  },
  {
   "cell_type": "code",
   "execution_count": 5,
   "metadata": {},
   "outputs": [],
   "source": [
    "x_train_o = pd.read_csv('financial_data.csv')\n",
    "y_train_o = pd.read_csv('revealed_businesses.csv')\n",
    "\n",
    "x_test_o = pd.read_csv(\"testing_data.csv\")\n",
    "\n",
    "x_test_business_id = x_test_o['Var1']\n",
    "\n",
    "x_train_o.replace('?', np.nan, inplace=True)\n",
    "x_train_o = x_train_o.astype('float64')\n",
    "\n",
    "\n",
    "x_test_o.replace('?', np.nan, inplace=True)\n",
    "x_test_o = x_test_o.astype('float64')\n",
    "\n",
    "data_all = x_train_o.merge(y_train_o, on='Var1', how = 'left')\n",
    "data_all_id = data_all['Var1']"
   ]
  },
  {
   "cell_type": "code",
   "execution_count": 6,
   "metadata": {},
   "outputs": [],
   "source": [
    "data_all_y = data_all.Var66\n",
    "#use train_x all mean\n",
    "data_train_all_mean = data_all.drop(columns=['Var1', 'Var66']).mean()\n",
    "# only with label mean\n",
    "# data_withLabel = data_all[data_all.Var66.notnull()]\n",
    "# data_withLabel_mean = data_withLabel.drop(columns=['Var66']).mean()\n",
    "x_train_imp_mean = data_all.drop(columns=['Var1', 'Var66']).fillna(data_train_all_mean)"
   ]
  },
  {
   "cell_type": "code",
   "execution_count": 7,
   "metadata": {},
   "outputs": [],
   "source": [
    "# x_train_MinMax_fit = preprocessing.MinMaxScaler().fit(x_train_imp_mean)\n",
    "# x_train_MinMax = x_train_MinMax_fit.transform(x_train_imp_mean)\n",
    "\n",
    "# imp mean from train to x_test\n",
    "x_test_imp_mean = x_test_o.drop(columns=['Var1']).fillna(data_train_all_mean)\n",
    "# x_test_f = x_train_MinMax_fit.transform(x_test_imp_mean)\n",
    "\n",
    "# x_MinMax_df = pd.DataFrame(data=x_train_MinMax, columns=x_train_imp_mean.columns)\n",
    "# df_combine = pd.concat([data_all_id, x_MinMax_df, data_all_y], axis=1)\n",
    "\n",
    "# for xgb\n",
    "\n",
    "df_combine = pd.concat([data_all_id, x_train_imp_mean, data_all_y], axis=1)"
   ]
  },
  {
   "cell_type": "code",
   "execution_count": 8,
   "metadata": {},
   "outputs": [],
   "source": [
    "data_nolabel = df_combine[df_combine.Var66.isnull()]\n",
    "data_label = df_combine[df_combine.Var66.notnull()]\n",
    "\n",
    "data_nolabel_v = data_nolabel.drop(columns=['Var1', 'Var66'])\n",
    "data_nolabel_id = data_nolabel['Var1']\n",
    "\n",
    "data_label_v = data_label.drop(columns=['Var1', 'Var66'])\n",
    "data_label_id = data_label['Var1']"
   ]
  },
  {
   "cell_type": "code",
   "execution_count": 9,
   "metadata": {},
   "outputs": [],
   "source": [
    "x = data_label_v.values\n",
    "y = data_label['Var66'].values"
   ]
  },
  {
   "cell_type": "code",
   "execution_count": 10,
   "metadata": {},
   "outputs": [
    {
     "data": {
      "text/plain": [
       "(4879, 64)"
      ]
     },
     "execution_count": 10,
     "metadata": {},
     "output_type": "execute_result"
    }
   ],
   "source": [
    "data_label_v.shape"
   ]
  },
  {
   "cell_type": "code",
   "execution_count": 11,
   "metadata": {},
   "outputs": [
    {
     "data": {
      "text/plain": [
       "RandomForestRegressor(bootstrap=True, criterion='mse', max_depth=None,\n",
       "           max_features='auto', max_leaf_nodes=None,\n",
       "           min_impurity_decrease=0.0, min_impurity_split=None,\n",
       "           min_samples_leaf=1, min_samples_split=2,\n",
       "           min_weight_fraction_leaf=0.0, n_estimators=10, n_jobs=None,\n",
       "           oob_score=False, random_state=77, verbose=0, warm_start=False)"
      ]
     },
     "execution_count": 11,
     "metadata": {},
     "output_type": "execute_result"
    }
   ],
   "source": [
    "# feature selection\n",
    "from sklearn.feature_selection import SelectKBest, chi2\n",
    "from sklearn.ensemble import RandomForestRegressor\n",
    "\n",
    "# skb = SelectKBest(chi2, k=10)\n",
    "# skb.fit_transform(x, y)\n",
    "\n",
    "\n",
    "rf = RandomForestRegressor(random_state=77)\n",
    "rf.fit(x, y)"
   ]
  },
  {
   "cell_type": "code",
   "execution_count": 12,
   "metadata": {
    "scrolled": true
   },
   "outputs": [
    {
     "name": "stdout",
     "output_type": "stream",
     "text": [
      "[(0.2572, 'Var35'), (0.0791, 'Var28'), (0.0491, 'Var34'), (0.0351, 'Var59'), (0.0268, 'Var22'), (0.0258, 'Var47'), (0.0237, 'Var26'), (0.0218, 'Var42'), (0.0215, 'Var41'), (0.0213, 'Var62'), (0.0189, 'Var58'), (0.0181, 'Var65'), (0.0181, 'Var33'), (0.018, 'Var25'), (0.0178, 'Var7'), (0.016, 'Var16'), (0.0147, 'Var6'), (0.0144, 'Var43'), (0.0139, 'Var45'), (0.0135, 'Var36'), (0.013, 'Var48'), (0.0126, 'Var10'), (0.0125, 'Var50'), (0.0112, 'Var21'), (0.0109, 'Var30'), (0.0102, 'Var17'), (0.0094, 'Var56'), (0.0093, 'Var60'), (0.0092, 'Var5'), (0.0089, 'Var55'), (0.0087, 'Var37'), (0.0085, 'Var27'), (0.0082, 'Var38'), (0.0076, 'Var46'), (0.0075, 'Var57'), (0.0075, 'Var40'), (0.0074, 'Var3'), (0.0068, 'Var61'), (0.0067, 'Var63'), (0.0065, 'Var13'), (0.0064, 'Var29'), (0.0063, 'Var64'), (0.0056, 'Var51'), (0.0054, 'Var31'), (0.0052, 'Var14'), (0.005, 'Var39'), (0.0049, 'Var15'), (0.0048, 'Var23'), (0.0046, 'Var4'), (0.0044, 'Var54'), (0.0044, 'Var20'), (0.0042, 'Var18'), (0.0041, 'Var32'), (0.0041, 'Var24'), (0.0033, 'Var49'), (0.003, 'Var19'), (0.0029, 'Var44'), (0.0027, 'Var8'), (0.0025, 'Var12'), (0.0022, 'Var2'), (0.0022, 'Var11'), (0.002, 'Var9'), (0.0016, 'Var52'), (0.0009, 'Var53')]\n"
     ]
    }
   ],
   "source": [
    "print(sorted(zip(map(lambda x: round(x, 4), rf.feature_importances_), data_label_v.columns), \n",
    "             reverse=True))"
   ]
  },
  {
   "cell_type": "code",
   "execution_count": 13,
   "metadata": {},
   "outputs": [],
   "source": [
    "ranking = sorted(zip(map(lambda x: round(x, 4), rf.feature_importances_), data_label_v.columns), \n",
    "             reverse=True)\n",
    "topFeaturesRF = []\n",
    "    "
   ]
  },
  {
   "cell_type": "code",
   "execution_count": 14,
   "metadata": {},
   "outputs": [],
   "source": [
    "for index, item in enumerate(ranking):\n",
    "    topFeaturesRF.append(item[1])\n",
    "    if index == 15:\n",
    "        break"
   ]
  },
  {
   "cell_type": "code",
   "execution_count": 15,
   "metadata": {},
   "outputs": [
    {
     "data": {
      "text/plain": [
       "['Var35',\n",
       " 'Var28',\n",
       " 'Var34',\n",
       " 'Var59',\n",
       " 'Var22',\n",
       " 'Var47',\n",
       " 'Var26',\n",
       " 'Var42',\n",
       " 'Var41',\n",
       " 'Var62',\n",
       " 'Var58',\n",
       " 'Var65',\n",
       " 'Var33',\n",
       " 'Var25',\n",
       " 'Var7',\n",
       " 'Var16']"
      ]
     },
     "execution_count": 15,
     "metadata": {},
     "output_type": "execute_result"
    }
   ],
   "source": [
    "topFeaturesRF"
   ]
  },
  {
   "cell_type": "code",
   "execution_count": 16,
   "metadata": {},
   "outputs": [],
   "source": [
    "newX_RF = data_label_v[topFeaturesRF]\n",
    "newx_RF = newX_RF.values"
   ]
  },
  {
   "cell_type": "code",
   "execution_count": 17,
   "metadata": {},
   "outputs": [],
   "source": [
    "# cols = skb.get_support(indices=True)\n",
    "# features_chi2 = data_label_v.columns[cols]"
   ]
  },
  {
   "cell_type": "code",
   "execution_count": 18,
   "metadata": {},
   "outputs": [],
   "source": [
    "# features_chi2"
   ]
  },
  {
   "cell_type": "code",
   "execution_count": 19,
   "metadata": {},
   "outputs": [],
   "source": [
    "# newx_chi2 = data_label_v[features_chi2].values"
   ]
  },
  {
   "cell_type": "code",
   "execution_count": 21,
   "metadata": {},
   "outputs": [],
   "source": [
    "# x_test_f_df = pd.DataFrame(data = x_test_f, columns=x_test_imp_mean.columns)\n",
    "# x_test_f_fs = x_test_f_df[topFeaturesRF].values"
   ]
  },
  {
   "cell_type": "code",
   "execution_count": 22,
   "metadata": {},
   "outputs": [],
   "source": [
    "x_random_Over_sampled, y_random_Over_sampled = RandomOverSampler(random_state=42).fit_sample(x,y)"
   ]
  },
  {
   "cell_type": "code",
   "execution_count": 24,
   "metadata": {
    "scrolled": true
   },
   "outputs": [
    {
     "name": "stdout",
     "output_type": "stream",
     "text": [
      "Classifier: bb\n",
      "Random over-sampling\n",
      "Train TP: 3767 Train FP: 1 Train FN: 0 Train TN: 3766; Test TP: 9 Test FP: 1 Test FN: 25 Test TN: 941\n",
      "MCC train: 0.9997345719926701 and MCC test: 0.4800591496516168\n",
      "Train TP: 3767 Train FP: 1 Train FN: 0 Train TN: 3766; Test TP: 9 Test FP: 3 Test FN: 25 Test TN: 939\n",
      "MCC train: 0.9997345719926701 and MCC test: 0.4351536380874149\n",
      "Train TP: 3767 Train FP: 1 Train FN: 0 Train TN: 3766; Test TP: 12 Test FP: 1 Test FN: 22 Test TN: 941\n",
      "MCC train: 0.9997345719926701 and MCC test: 0.5628260450447655\n",
      "Train TP: 3767 Train FP: 2 Train FN: 0 Train TN: 3765; Test TP: 12 Test FP: 0 Test FN: 22 Test TN: 942\n",
      "MCC train: 0.9994692143999724 and MCC test: 0.5872703826337319\n",
      "Train TP: 3768 Train FP: 1 Train FN: 0 Train TN: 3767; Test TP: 10 Test FP: 0 Test FN: 24 Test TN: 941\n",
      "MCC train: 0.9997346424260035 and MCC test: 0.5355397315075359\n",
      "sensitivity: 0.31 | specificity: 1.00 | g_mean: 0.55 | ave_mcc: 0.520\n",
      "----------------------------------------------------------------------\n",
      "\n",
      "Classifier: xgb\n",
      "Random over-sampling\n",
      "Train TP: 3767 Train FP: 1 Train FN: 0 Train TN: 3766; Test TP: 16 Test FP: 13 Test FN: 18 Test TN: 929\n",
      "MCC train: 0.9997345719926701 and MCC test: 0.49329353957539607\n",
      "Train TP: 3767 Train FP: 1 Train FN: 0 Train TN: 3766; Test TP: 18 Test FP: 4 Test FN: 16 Test TN: 938\n",
      "MCC train: 0.9997345719926701 and MCC test: 0.6487472856547609\n",
      "Train TP: 3767 Train FP: 0 Train FN: 0 Train TN: 3767; Test TP: 19 Test FP: 3 Test FN: 15 Test TN: 939\n",
      "MCC train: 1.0 and MCC test: 0.6863915990197459\n",
      "Train TP: 3767 Train FP: 2 Train FN: 0 Train TN: 3765; Test TP: 20 Test FP: 4 Test FN: 14 Test TN: 938\n",
      "MCC train: 0.9994692143999724 and MCC test: 0.6914256535181416\n",
      "Train TP: 3768 Train FP: 2 Train FN: 0 Train TN: 3766; Test TP: 17 Test FP: 5 Test FN: 17 Test TN: 936\n",
      "MCC train: 0.9994693552292838 and MCC test: 0.611091919971594\n",
      "sensitivity: 0.53 | specificity: 0.99 | g_mean: 0.73 | ave_mcc: 0.626\n",
      "----------------------------------------------------------------------\n",
      "\n",
      "Classifier: rf_bb\n",
      "Random over-sampling\n",
      "Train TP: 3767 Train FP: 0 Train FN: 0 Train TN: 3767; Test TP: 9 Test FP: 1 Test FN: 25 Test TN: 941\n",
      "MCC train: 1.0 and MCC test: 0.4800591496516168\n",
      "Train TP: 3767 Train FP: 0 Train FN: 0 Train TN: 3767; Test TP: 8 Test FP: 2 Test FN: 26 Test TN: 940\n",
      "MCC train: 1.0 and MCC test: 0.4245714980575881\n",
      "Train TP: 3767 Train FP: 0 Train FN: 0 Train TN: 3767; Test TP: 13 Test FP: 1 Test FN: 21 Test TN: 941\n",
      "MCC train: 1.0 and MCC test: 0.5879905304547547\n",
      "Train TP: 3767 Train FP: 0 Train FN: 0 Train TN: 3767; Test TP: 12 Test FP: 0 Test FN: 22 Test TN: 942\n",
      "MCC train: 1.0 and MCC test: 0.5872703826337319\n",
      "Train TP: 3768 Train FP: 0 Train FN: 0 Train TN: 3768; Test TP: 8 Test FP: 0 Test FN: 26 Test TN: 941\n",
      "MCC train: 1.0 and MCC test: 0.4785056935556062\n",
      "sensitivity: 0.29 | specificity: 1.00 | g_mean: 0.54 | ave_mcc: 0.512\n",
      "----------------------------------------------------------------------\n",
      "\n"
     ]
    }
   ],
   "source": [
    "from imblearn.over_sampling import BorderlineSMOTE, SVMSMOTE\n",
    "from imblearn.combine import SMOTEENN, SMOTETomek\n",
    "from xgboost import XGBClassifier\n",
    "from imblearn.ensemble import BalancedRandomForestClassifier, BalanceCascade, EasyEnsembleClassifier, RUSBoostClassifier\n",
    "\n",
    "RANDOM_STATE=42\n",
    "\n",
    "clfs={\n",
    "    #'gnb': GaussianNB(),\n",
    "    #'svm': SVC(),\n",
    "    #'lr':  LogisticRegression(),\n",
    "    #'rfc': RandomForestClassifier(random_state=RANDOM_STATE),\n",
    "    #'et': ExtraTreesClassifier(),\n",
    "    #'ada': AdaBoostClassifier(),\n",
    "    #'ml': MLPClassifier(),\n",
    "    'bb': BalancedBaggingClassifier(base_estimator = RandomForestClassifier(random_state=RANDOM_STATE), \n",
    "                                          random_state=RANDOM_STATE),\n",
    "    'xgb': XGBClassifier(max_depth=5, subsample=0.8, scale_pos_weight=0.5),\n",
    "    'rf_bb' : BalancedRandomForestClassifier(random_state = RANDOM_STATE),\n",
    "#     'eec' : EasyEnsembleClassifier(random_state=RANDOM_STATE),\n",
    "#     'rusb' : RUSBoostClassifier(random_state=0)\n",
    "    \n",
    "    \n",
    "}\n",
    "cv = 5\n",
    "\n",
    "for clf_name in clfs:\n",
    "    print(\"Classifier: {0}\".format(clf_name))\n",
    "    \n",
    "    # Random Over-sampling\n",
    "    print(\"Random over-sampling\")\n",
    "    values = imbalanced_cross_validation_score(clfs[clf_name], x, y, cv, Confusion_matrix, RandomOverSampler(random_state=RANDOM_STATE))\n",
    "    print(\"sensitivity: %.2f | specificity: %.2f | g_mean: %.2f | ave_mcc: %.3f\"%(values[0], values[1], values[2], values[3]))\n",
    "\n",
    "#     #  SMOTE\n",
    "#     print(\"SMOTE over-sampling\")\n",
    "#     values = imbalanced_cross_validation_score(clfs[clf_name], x, y, cv, Confusion_matrix, SMOTE(random_state=RANDOM_STATE))\n",
    "#     print(\"sensitivity: %.2f | specificity: %.2f | g_mean: %.2f | ave_mcc: %.3f\"%(values[0], values[1], values[2], values[3]))\n",
    "\n",
    "#     # BorderlineSMOTE\n",
    "#     print(\"BorderlineSMOTE\")\n",
    "#     values = imbalanced_cross_validation_score(clfs[clf_name], x, y, cv, Confusion_matrix, BorderlineSMOTE(random_state=RANDOM_STATE))\n",
    "#     print(\"sensitivity: %.2f | specificity: %.2f | g_mean: %.2f | ave_mcc: %.3f\"%(values[0], values[1], values[2], values[3]))\n",
    "\n",
    "#     # SVMSMOTE\n",
    "#     print(\"SVMSMOTE\")\n",
    "#     values = imbalanced_cross_validation_score(clfs[clf_name], x, y, cv, Confusion_matrix, SVMSMOTE(random_state=RANDOM_STATE))\n",
    "#     print(\"sensitivity: %.2f | specificity: %.2f | g_mean: %.2f | ave_mcc: %.3f\"%(values[0], values[1], values[2], values[3]))\n",
    "\n",
    "#     #  ADASYN\n",
    "#     print(\"ADASYN over-sampling\")\n",
    "#     values = imbalanced_cross_validation_score(clfs[clf_name], x, y, cv, Confusion_matrix, ADASYN(random_state=RANDOM_STATE))\n",
    "#     print(\"sensitivity: %.2f | specificity: %.2f | g_mean: %.2f | ave_mcc: %.3f\"%(values[0], values[1], values[2], values[3]))\n",
    "\n",
    "#     #  SMOTEENN\n",
    "#     print(\"SMOTEENN\")\n",
    "#     values = imbalanced_cross_validation_score(clfs[clf_name], x, y, cv, Confusion_matrix, SMOTEENN(random_state=RANDOM_STATE))\n",
    "#     print(\"sensitivity: %.2f | specificity: %.2f | g_mean: %.2f | mcc: %.3f\"%(values[0], values[1], values[2], values[3]))\n",
    "\n",
    "#     #  SMOTETomek\n",
    "#     print(\"SMOTETomek\")\n",
    "#     values = imbalanced_cross_validation_score(clfs[clf_name], x, y, cv, Confusion_matrix, SMOTETomek(random_state=RANDOM_STATE))\n",
    "#     print(\"sensitivity: %.2f | specificity: %.2f | g_mean: %.2f | ave_mcc: %.3f\"%(values[0], values[1], values[2], values[3]))\n",
    "\n",
    "    print(\"-\"*70)\n",
    "    print()\n",
    "    "
   ]
  },
  {
   "cell_type": "code",
   "execution_count": 25,
   "metadata": {},
   "outputs": [],
   "source": [
    "from sklearn.metrics import matthews_corrcoef\n",
    "def matthewscorrcoef3(estimator, X_test, y_test):\n",
    "   return matthews_corrcoef(y_test, estimator.predict(X_test))"
   ]
  },
  {
   "cell_type": "code",
   "execution_count": 26,
   "metadata": {},
   "outputs": [],
   "source": [
    "# Use GridSearchCV to find the best parameters.\n",
    "from sklearn.model_selection import GridSearchCV\n",
    "\n",
    "rfc_params = {\"criterion\" : [\"gini\", \"entropy\"], \"n_estimators\" : [5, 10, 15, 20, 25, 30, 35, 40, 50]}\n",
    "\n",
    "rf = RandomForestClassifier()\n",
    "# Instantiate the grid search model\n",
    "grid_search1 = GridSearchCV(estimator = rf, param_grid = rfc_params, \n",
    "                          cv = 5, n_jobs = -1, verbose = 2, scoring = matthewscorrcoef3)\n"
   ]
  },
  {
   "cell_type": "code",
   "execution_count": 27,
   "metadata": {},
   "outputs": [
    {
     "name": "stdout",
     "output_type": "stream",
     "text": [
      "Fitting 5 folds for each of 18 candidates, totalling 90 fits\n"
     ]
    },
    {
     "name": "stderr",
     "output_type": "stream",
     "text": [
      "[Parallel(n_jobs=-1)]: Using backend LokyBackend with 8 concurrent workers.\n",
      "[Parallel(n_jobs=-1)]: Done  25 tasks      | elapsed:    4.9s\n",
      "[Parallel(n_jobs=-1)]: Done  90 out of  90 | elapsed:   14.7s finished\n"
     ]
    },
    {
     "data": {
      "text/plain": [
       "{'criterion': 'gini', 'n_estimators': 50}"
      ]
     },
     "execution_count": 27,
     "metadata": {},
     "output_type": "execute_result"
    }
   ],
   "source": [
    "grid_search1.fit(x_random_Over_sampled, y_random_Over_sampled)\n",
    "grid_search1.best_params_"
   ]
  },
  {
   "cell_type": "code",
   "execution_count": 28,
   "metadata": {},
   "outputs": [],
   "source": [
    "bb_params = {'max_samples' : [0.5, 1.0],\n",
    "             \"n_estimators\" : [30, 40, 50, 60]}\n",
    "\n",
    "bb = BalancedBaggingClassifier(base_estimator = RandomForestClassifier())\n",
    "                                          #n_estimators = 15, bootstrap = True)\n",
    "# Instantiate the grid search model\n",
    "grid_search2 = GridSearchCV(estimator = bb, param_grid = bb_params, \n",
    "                          cv = 5, n_jobs = -1, verbose = 2, scoring = matthewscorrcoef3)"
   ]
  },
  {
   "cell_type": "code",
   "execution_count": 29,
   "metadata": {},
   "outputs": [
    {
     "name": "stdout",
     "output_type": "stream",
     "text": [
      "Fitting 5 folds for each of 8 candidates, totalling 40 fits\n"
     ]
    },
    {
     "name": "stderr",
     "output_type": "stream",
     "text": [
      "[Parallel(n_jobs=-1)]: Using backend LokyBackend with 8 concurrent workers.\n",
      "[Parallel(n_jobs=-1)]: Done  25 tasks      | elapsed:   34.9s\n",
      "[Parallel(n_jobs=-1)]: Done  40 out of  40 | elapsed:  1.0min finished\n"
     ]
    },
    {
     "data": {
      "text/plain": [
       "{'max_samples': 1.0, 'n_estimators': 40}"
      ]
     },
     "execution_count": 29,
     "metadata": {},
     "output_type": "execute_result"
    }
   ],
   "source": [
    "grid_search2.fit(x_random_Over_sampled, y_random_Over_sampled)\n",
    "grid_search2.best_params_"
   ]
  },
  {
   "cell_type": "code",
   "execution_count": 30,
   "metadata": {},
   "outputs": [],
   "source": [
    "# rf_bb tunning parameters\n",
    "rf_bb_clf_params = {'criterion' : ['gini', 'entropy'],\n",
    "             \"n_estimators\" : [50, 100, 150, 200, 250, 300],\n",
    "                   'max_features': ['sqrt', 'log2']}\n",
    "\n",
    "rf_bb_clf = BalancedRandomForestClassifier(random_state = RANDOM_STATE)\n",
    "\n",
    "# Instantiate the grid search model\n",
    "grid_search3 = GridSearchCV(estimator = rf_bb_clf, param_grid = rf_bb_clf_params, \n",
    "                          cv = 5, n_jobs = -1, verbose = 2, scoring = matthewscorrcoef3)"
   ]
  },
  {
   "cell_type": "code",
   "execution_count": 31,
   "metadata": {},
   "outputs": [
    {
     "name": "stdout",
     "output_type": "stream",
     "text": [
      "Fitting 5 folds for each of 24 candidates, totalling 120 fits\n"
     ]
    },
    {
     "name": "stderr",
     "output_type": "stream",
     "text": [
      "[Parallel(n_jobs=-1)]: Using backend LokyBackend with 8 concurrent workers.\n",
      "[Parallel(n_jobs=-1)]: Done  25 tasks      | elapsed:   19.8s\n",
      "[Parallel(n_jobs=-1)]: Done 120 out of 120 | elapsed:  1.7min finished\n"
     ]
    },
    {
     "data": {
      "text/plain": [
       "{'criterion': 'gini', 'max_features': 'sqrt', 'n_estimators': 50}"
      ]
     },
     "execution_count": 31,
     "metadata": {},
     "output_type": "execute_result"
    }
   ],
   "source": [
    "grid_search3.fit(x_random_Over_sampled, y_random_Over_sampled)\n",
    "grid_search3.best_params_"
   ]
  },
  {
   "cell_type": "code",
   "execution_count": 32,
   "metadata": {},
   "outputs": [],
   "source": [
    "# xgb tunning parameters\n",
    " xgb_params = {'max_depth' : [3, 4, 5, 6, 7],\n",
    "#              \"n_estimators\" : [100, 500, 100],\n",
    "#                 'subsample': [0.8, 0.9, 1],\n",
    "              'learning_rate': [0.2， 0.15， 0.1],\n",
    "#               'colsample_bytree': [0.6, 0.7, 0.8, 0.9, 1],\n",
    "#               'gamma': [0,1,5]\n",
    "             }\n",
    "\n",
    "\n",
    "xgb_clf = XGBClassifier(random_state = RANDOM_STATE)\n",
    "# Instantiate the grid search model\n",
    "grid_search4 = GridSearchCV(estimator = xgb_clf, param_grid = xgb_params, \n",
    "                          cv = 5, n_jobs = -1, verbose = 2, scoring = matthewscorrcoef3)"
   ]
  },
  {
   "cell_type": "code",
   "execution_count": 33,
   "metadata": {},
   "outputs": [
    {
     "name": "stdout",
     "output_type": "stream",
     "text": [
      "Fitting 5 folds for each of 2025 candidates, totalling 10125 fits\n"
     ]
    },
    {
     "name": "stderr",
     "output_type": "stream",
     "text": [
      "[Parallel(n_jobs=-1)]: Using backend LokyBackend with 8 concurrent workers.\n",
      "[Parallel(n_jobs=-1)]: Done  25 tasks      | elapsed:   40.5s\n",
      "[Parallel(n_jobs=-1)]: Done 146 tasks      | elapsed:  3.0min\n",
      "[Parallel(n_jobs=-1)]: Done 349 tasks      | elapsed:  7.7min\n",
      "[Parallel(n_jobs=-1)]: Done 632 tasks      | elapsed: 14.5min\n",
      "[Parallel(n_jobs=-1)]: Done 997 tasks      | elapsed: 22.8min\n",
      "[Parallel(n_jobs=-1)]: Done 1442 tasks      | elapsed: 33.4min\n",
      "[Parallel(n_jobs=-1)]: Done 1969 tasks      | elapsed: 45.5min\n",
      "[Parallel(n_jobs=-1)]: Done 2576 tasks      | elapsed: 58.3min\n",
      "[Parallel(n_jobs=-1)]: Done 3265 tasks      | elapsed: 74.4min\n",
      "[Parallel(n_jobs=-1)]: Done 4034 tasks      | elapsed: 92.9min\n",
      "[Parallel(n_jobs=-1)]: Done 4885 tasks      | elapsed: 113.5min\n",
      "[Parallel(n_jobs=-1)]: Done 5816 tasks      | elapsed: 137.2min\n",
      "[Parallel(n_jobs=-1)]: Done 6829 tasks      | elapsed: 164.3min\n",
      "[Parallel(n_jobs=-1)]: Done 7922 tasks      | elapsed: 194.9min\n",
      "[Parallel(n_jobs=-1)]: Done 9097 tasks      | elapsed: 229.1min\n",
      "[Parallel(n_jobs=-1)]: Done 10125 out of 10125 | elapsed: 261.6min finished\n"
     ]
    },
    {
     "data": {
      "text/plain": [
       "{'colsample_bytree': 1,\n",
       " 'gamma': 0,\n",
       " 'learning_rate': 0.1,\n",
       " 'max_depth': 6,\n",
       " 'n_estimators': 500,\n",
       " 'subsample': 0.8}"
      ]
     },
     "execution_count": 33,
     "metadata": {},
     "output_type": "execute_result"
    }
   ],
   "source": [
    "grid_search4.fit(x_random_Over_sampled, y_random_Over_sampled)\n",
    "grid_search4.best_params_"
   ]
  },
  {
   "cell_type": "code",
   "execution_count": 34,
   "metadata": {},
   "outputs": [
    {
     "data": {
      "text/plain": [
       "dict_keys(['base_score', 'booster', 'colsample_bylevel', 'colsample_bytree', 'gamma', 'learning_rate', 'max_delta_step', 'max_depth', 'min_child_weight', 'missing', 'n_estimators', 'n_jobs', 'nthread', 'objective', 'random_state', 'reg_alpha', 'reg_lambda', 'scale_pos_weight', 'seed', 'silent', 'subsample'])"
      ]
     },
     "execution_count": 34,
     "metadata": {},
     "output_type": "execute_result"
    }
   ],
   "source": [
    "xgb_clf.get_params().keys()"
   ]
  },
  {
   "cell_type": "code",
   "execution_count": 35,
   "metadata": {},
   "outputs": [
    {
     "name": "stdout",
     "output_type": "stream",
     "text": [
      "0.9968195446053636\n",
      "\n",
      "[0.99843383 0.99843383]\n",
      "[[1911    6]\n",
      " [   0 1851]]\n",
      "mcc: 0.9968195446053636\n"
     ]
    },
    {
     "data": {
      "image/png": "[encoded data removed]",
      "text/plain": [
       "<Figure size 432x288 with 1 Axes>"
      ]
     },
     "metadata": {
      "needs_background": "light"
     },
     "output_type": "display_data"
    }
   ],
   "source": [
    "# best_period = os_dfs_dict['mean'][0]\n",
    "# X = best_period.iloc[:,0:-1].values\n",
    "# y = best_period[\"Var66\"].values\n",
    "from sklearn.model_selection import train_test_split\n",
    "from sklearn.metrics import roc_curve, auc, matthews_corrcoef, confusion_matrix\n",
    "from imblearn.metrics import geometric_mean_score\n",
    "\n",
    "X_train, X_test, y_train, y_test = train_test_split(x_random_Over_sampled, y_random_Over_sampled, test_size=0.4, random_state= 42)\n",
    "\n",
    "# BalancedBaggingClassifier\n",
    "bb_classifier_roc = BalancedBaggingClassifier(base_estimator = RandomForestClassifier(criterion='gini', \n",
    "                                                          n_estimators = 50,\n",
    "                                                          max_features = \"sqrt\"), \n",
    "                                          n_estimators = 40, bootstrap = True, random_state=42)\n",
    "bb_classifier_roc.fit(X_train, y_train)\n",
    "y_pred_dt = bb_classifier_roc.predict(X_test)\n",
    "\n",
    "\n",
    "# rf_bb_clf_roc = rf_bb_classifier = BalancedRandomForestClassifier(n_estimators=300, criterion='entropy', max_features='sqrt', random_state = RANDOM_STATE)\n",
    "\n",
    "# rf_bb_clf_roc.fit(X_train, y_train)\n",
    "# y_pred_dt = rf_bb_clf_roc.predict(X_test)\n",
    "\n",
    "\n",
    "\n",
    "\n",
    "fpr, tpr, threshold = roc_curve(y_test, y_pred_dt)\n",
    "print(matthews_corrcoef(y_test, y_pred_dt))\n",
    "print()\n",
    "\n",
    "tn, fp, fn, tp = confusion_matrix(y_test, y_pred_dt, labels=[0,1]).ravel()\n",
    "\n",
    "print(geometric_mean_score(y_test, y_pred_dt, average=None))\n",
    "\n",
    "print(confusion_matrix(y_test, y_pred_dt))\n",
    "print(\"mcc: \" + str((tp*tn-fp*fn)/math.sqrt((tp+fp)*(tp+fn)*(tn+fp)*(tn+fn))))\n",
    "\n",
    "roc_auc = auc(fpr, tpr)\n",
    "\n",
    "plt.title('Sklearn BalancedBaggingClassifier OS Mean Imputation')\n",
    "plt.plot(fpr, tpr, 'b', label = 'AUC = %0.4f' % roc_auc)\n",
    "plt.legend(loc = 'lower right')\n",
    "plt.plot([0, 1], [0, 1],'r--')\n",
    "plt.xlim([0, 1])\n",
    "plt.ylim([0, 1])\n",
    "plt.ylabel('True Positive Rate')\n",
    "plt.xlabel('False Positive Rate')\n",
    "plt.show()\n",
    "\n",
    "# 0.9962904829182986\n"
   ]
  },
  {
   "cell_type": "code",
   "execution_count": 42,
   "metadata": {},
   "outputs": [],
   "source": [
    "bb_classifier = BalancedBaggingClassifier(base_estimator = RandomForestClassifier(criterion='gini', \n",
    "                                                          n_estimators = 50,\n",
    "                                                          max_features = \"sqrt\"), \n",
    "                                          n_estimators = 40, bootstrap = True, random_state=42)\n",
    "\n",
    "bb_classifier.fit(x_random_Over_sampled, y_random_Over_sampled)\n",
    "y_pred_dt = bb_classifier.predict(x_test_imp_mean)\n"
   ]
  },
  {
   "cell_type": "code",
   "execution_count": 39,
   "metadata": {},
   "outputs": [],
   "source": [
    "rf_bb_classifier = BalancedRandomForestClassifier(n_estimators=300, criterion='entropy', max_features='sqrt', random_state = RANDOM_STATE)\n",
    "\n",
    "rf_bb_classifier.fit(x_random_Over_sampled, y_random_Over_sampled)\n",
    "y_pred_dt = rf_bb_classifier.predict(x_test_imp_mean)\n"
   ]
  },
  {
   "cell_type": "code",
   "execution_count": 43,
   "metadata": {},
   "outputs": [
    {
     "data": {
      "text/plain": [
       "0.0    1469\n",
       "1.0      31\n",
       "Name: Is_Bankrupted, dtype: int64"
      ]
     },
     "execution_count": 43,
     "metadata": {},
     "output_type": "execute_result"
    }
   ],
   "source": [
    "result = pd.DataFrame(y_pred_dt, columns=[\"Is_Bankrupted\"])\n",
    "upload = pd.concat([x_test_business_id, result], axis=1)\n",
    "result[\"Is_Bankrupted\"].value_counts()"
   ]
  },
  {
   "cell_type": "code",
   "execution_count": 44,
   "metadata": {},
   "outputs": [],
   "source": [
    "upload = upload.astype('int32')\n",
    "upload.columns=['Business_ID', 'Is_Bankrupted']\n",
    "upload.to_csv('3_30_5_57_bb.csv', index=False)"
   ]
  },
  {
   "cell_type": "code",
   "execution_count": null,
   "metadata": {},
   "outputs": [],
   "source": []
  }
 ],
 "metadata": {
  "kernelspec": {
   "display_name": "Python 3",
   "language": "python",
   "name": "python3"
  },
  "language_info": {
   "codemirror_mode": {
    "name": "ipython",
    "version": 3
   },
   "file_extension": ".py",
   "mimetype": "text/x-python",
   "name": "python",
   "nbconvert_exporter": "python",
   "pygments_lexer": "ipython3",
   "version": "3.7.1"
  }
 },
 "nbformat": 4,
 "nbformat_minor": 2
}
