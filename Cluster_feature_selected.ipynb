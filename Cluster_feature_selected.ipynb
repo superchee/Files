{
 "cells": [
  {
   "cell_type": "code",
   "execution_count": 1,
   "metadata": {},
   "outputs": [
    {
     "name": "stderr",
     "output_type": "stream",
     "text": [
      "Using TensorFlow backend.\n"
     ]
    }
   ],
   "source": [
    "import h5py\n",
    "from keras.layers import Input, Dense\n",
    "from keras.models import Model, Sequential\n",
    "from keras import regularizers\n",
    "from sklearn.model_selection import train_test_split \n",
    "from sklearn.linear_model import LogisticRegression\n",
    "from sklearn.metrics import classification_report, accuracy_score\n",
    "from sklearn.manifold import TSNE\n",
    "from sklearn import preprocessing \n",
    "import matplotlib.pyplot as plt\n",
    "import pandas as pd \n",
    "import numpy as np\n",
    "import seaborn as sns\n",
    "sns.set(style=\"whitegrid\")\n",
    "np.random.seed(203)"
   ]
  },
  {
   "cell_type": "code",
   "execution_count": 2,
   "metadata": {},
   "outputs": [],
   "source": [
    "from sklearn.cluster import DBSCAN, KMeans, AgglomerativeClustering\n",
    "from sklearn import metrics\n",
    "from collections import OrderedDict\n",
    "import dataexp as dtex # our code\n",
    "import dataio as dtio # our code \n",
    "import preprocessing as pre # our code\n",
    "\n",
    "from sklearn.naive_bayes import GaussianNB # naive bayes\n",
    "from sklearn.neighbors import KNeighborsClassifier # KNN\n",
    "from sklearn.svm import SVC # SVM\n",
    "from sklearn.ensemble import BaggingClassifier \n",
    "from sklearn.ensemble import AdaBoostClassifier\n",
    "from sklearn.ensemble import GradientBoostingClassifier\n",
    "from imblearn.ensemble import BalancedBaggingClassifier\n",
    "\n",
    "# machine learning models/techniques third parties \n",
    "from sklearn.tree import DecisionTreeClassifier\n",
    "from sklearn.ensemble import RandomForestClassifier\n",
    "import sklearn.linear_model as sklm\n",
    "\n",
    "from sklearn.model_selection import train_test_split\n",
    "from sklearn.metrics import roc_curve, auc, confusion_matrix, silhouette_score\n",
    "\n",
    "#from sklearn import metrics\n",
    "\n",
    "# ignore warnings\n",
    "import warnings\n",
    "warnings.filterwarnings('ignore')"
   ]
  },
  {
   "cell_type": "code",
   "execution_count": 3,
   "metadata": {},
   "outputs": [],
   "source": [
    "def tsne_plot(x1, y1, name=\"graph.png\"):\n",
    "    tsne = TSNE(n_components=2, random_state=0)\n",
    "    X_t = tsne.fit_transform(x1)\n",
    "\n",
    "    plt.figure(figsize=(12, 8))\n",
    "    for i in range(0,y1.astype('int32').max()+1):\n",
    "        plt.scatter(X_t[np.where(abs(y1) == i), 0], X_t[np.where(abs(y1) == i), 1], marker='o', color=plt.cm.nipy_spectral(i / 10.), linewidth='1', alpha=0.8, label='{}_label'.format(i))\n",
    "        \n",
    "    plt.legend(loc='best');\n",
    "    plt.savefig(name);\n",
    "    plt.show();"
   ]
  },
  {
   "cell_type": "code",
   "execution_count": 4,
   "metadata": {},
   "outputs": [],
   "source": [
    "def plot_clustering(X_red, labels, title=None):\n",
    "    x_min, x_max = np.min(X_red, axis=0), np.max(X_red, axis=0)\n",
    "    X_red = (X_red - x_min) / (x_max - x_min)\n",
    "\n",
    "    plt.figure(figsize=(6, 4))\n",
    "    for i in range(X_red.shape[0]):\n",
    "        plt.text(X_red[i, 0], X_red[i, 1], str(y[i]),\n",
    "                 color=plt.cm.nipy_spectral(labels[i] / 10.),\n",
    "                 fontdict={'weight': 'bold', 'size': 9})\n",
    "\n",
    "    plt.xticks([])\n",
    "    plt.yticks([])\n",
    "    if title is not None:\n",
    "        plt.title(title, size=17)\n",
    "    plt.axis('off')\n",
    "    plt.tight_layout(rect=[0, 0.03, 1, 0.95])"
   ]
  },
  {
   "cell_type": "code",
   "execution_count": 5,
   "metadata": {},
   "outputs": [],
   "source": [
    "x_train_o = pd.read_csv('financial_data.csv')\n",
    "y_train_o = pd.read_csv('revealed_businesses.csv')\n",
    "\n",
    "x_test_o = pd.read_csv(\"testing_data.csv\")\n",
    "\n",
    "x_train_o.replace('?', np.nan, inplace=True)\n",
    "x_train_o = x_train_o.astype('float64')\n",
    "\n",
    "\n",
    "x_test_o.replace('?', np.nan, inplace=True)\n",
    "x_test_o = x_test_o.astype('float64')\n",
    "\n",
    "data_all = x_train_o.merge(y_train_o, on='Var1', how = 'left')"
   ]
  },
  {
   "cell_type": "code",
   "execution_count": 6,
   "metadata": {
    "scrolled": true
   },
   "outputs": [
    {
     "data": {
      "text/html": [
       "<div>\n",
       "<style scoped>\n",
       "    .dataframe tbody tr th:only-of-type {\n",
       "        vertical-align: middle;\n",
       "    }\n",
       "\n",
       "    .dataframe tbody tr th {\n",
       "        vertical-align: top;\n",
       "    }\n",
       "\n",
       "    .dataframe thead th {\n",
       "        text-align: right;\n",
       "    }\n",
       "</style>\n",
       "<table border=\"1\" class=\"dataframe\">\n",
       "  <thead>\n",
       "    <tr style=\"text-align: right;\">\n",
       "      <th></th>\n",
       "      <th>total_instances</th>\n",
       "      <th>total_instances_with_missing_values</th>\n",
       "      <th>total_instances_without_missing_values</th>\n",
       "      <th>data_loss</th>\n",
       "    </tr>\n",
       "  </thead>\n",
       "  <tbody>\n",
       "    <tr>\n",
       "      <th>0</th>\n",
       "      <td>9003.0</td>\n",
       "      <td>4702.0</td>\n",
       "      <td>4301.0</td>\n",
       "      <td>0.5223</td>\n",
       "    </tr>\n",
       "  </tbody>\n",
       "</table>\n",
       "</div>"
      ],
      "text/plain": [
       "   total_instances  total_instances_with_missing_values  \\\n",
       "0           9003.0                               4702.0   \n",
       "\n",
       "   total_instances_without_missing_values  data_loss  \n",
       "0                                  4301.0     0.5223  "
      ]
     },
     "metadata": {},
     "output_type": "display_data"
    },
    {
     "data": {
      "image/png": "[encoded data removed]",
      "text/plain": [
       "<Figure size 1440x360 with 2 Axes>"
      ]
     },
     "metadata": {
      "needs_background": "light"
     },
     "output_type": "display_data"
    }
   ],
   "source": [
    "missing_stats_df = dtex.missing_stats(x_train_o)\n",
    "display(missing_stats_df)\n",
    "dtex.nullity_matrix([x_train_o], include_all = False)"
   ]
  },
  {
   "cell_type": "code",
   "execution_count": 7,
   "metadata": {},
   "outputs": [],
   "source": [
    "data_nolabel = data_all[data_all.Var66.isnull()]\n",
    "data_label = data_all[data_all.Var66.notnull()]"
   ]
  },
  {
   "cell_type": "code",
   "execution_count": 8,
   "metadata": {},
   "outputs": [
    {
     "data": {
      "text/html": [
       "<div>\n",
       "<style scoped>\n",
       "    .dataframe tbody tr th:only-of-type {\n",
       "        vertical-align: middle;\n",
       "    }\n",
       "\n",
       "    .dataframe tbody tr th {\n",
       "        vertical-align: top;\n",
       "    }\n",
       "\n",
       "    .dataframe thead th {\n",
       "        text-align: right;\n",
       "    }\n",
       "</style>\n",
       "<table border=\"1\" class=\"dataframe\">\n",
       "  <thead>\n",
       "    <tr style=\"text-align: right;\">\n",
       "      <th></th>\n",
       "      <th>total_instances</th>\n",
       "      <th>total_instances_with_missing_values</th>\n",
       "      <th>total_instances_without_missing_values</th>\n",
       "      <th>data_loss</th>\n",
       "    </tr>\n",
       "  </thead>\n",
       "  <tbody>\n",
       "    <tr>\n",
       "      <th>0</th>\n",
       "      <td>4124.0</td>\n",
       "      <td>4124.0</td>\n",
       "      <td>0.0</td>\n",
       "      <td>1.0</td>\n",
       "    </tr>\n",
       "  </tbody>\n",
       "</table>\n",
       "</div>"
      ],
      "text/plain": [
       "   total_instances  total_instances_with_missing_values  \\\n",
       "0           4124.0                               4124.0   \n",
       "\n",
       "   total_instances_without_missing_values  data_loss  \n",
       "0                                     0.0        1.0  "
      ]
     },
     "metadata": {},
     "output_type": "display_data"
    },
    {
     "data": {
      "image/png": "[encoded data removed]",
      "text/plain": [
       "<Figure size 1440x360 with 2 Axes>"
      ]
     },
     "metadata": {
      "needs_background": "light"
     },
     "output_type": "display_data"
    }
   ],
   "source": [
    "missing_stats_df_nolabel = dtex.missing_stats(data_nolabel)\n",
    "display(missing_stats_df_nolabel)\n",
    "dtex.nullity_matrix([data_nolabel], include_all = False)"
   ]
  },
  {
   "cell_type": "code",
   "execution_count": 9,
   "metadata": {},
   "outputs": [
    {
     "data": {
      "text/html": [
       "<div>\n",
       "<style scoped>\n",
       "    .dataframe tbody tr th:only-of-type {\n",
       "        vertical-align: middle;\n",
       "    }\n",
       "\n",
       "    .dataframe tbody tr th {\n",
       "        vertical-align: top;\n",
       "    }\n",
       "\n",
       "    .dataframe thead th {\n",
       "        text-align: right;\n",
       "    }\n",
       "</style>\n",
       "<table border=\"1\" class=\"dataframe\">\n",
       "  <thead>\n",
       "    <tr style=\"text-align: right;\">\n",
       "      <th></th>\n",
       "      <th>total_instances</th>\n",
       "      <th>total_instances_with_missing_values</th>\n",
       "      <th>total_instances_without_missing_values</th>\n",
       "      <th>data_loss</th>\n",
       "    </tr>\n",
       "  </thead>\n",
       "  <tbody>\n",
       "    <tr>\n",
       "      <th>0</th>\n",
       "      <td>4879.0</td>\n",
       "      <td>2429.0</td>\n",
       "      <td>2450.0</td>\n",
       "      <td>0.4978</td>\n",
       "    </tr>\n",
       "  </tbody>\n",
       "</table>\n",
       "</div>"
      ],
      "text/plain": [
       "   total_instances  total_instances_with_missing_values  \\\n",
       "0           4879.0                               2429.0   \n",
       "\n",
       "   total_instances_without_missing_values  data_loss  \n",
       "0                                  2450.0     0.4978  "
      ]
     },
     "metadata": {},
     "output_type": "display_data"
    },
    {
     "data": {
      "image/png": "[encoded data removed]",
      "text/plain": [
       "<Figure size 1440x360 with 2 Axes>"
      ]
     },
     "metadata": {
      "needs_background": "light"
     },
     "output_type": "display_data"
    }
   ],
   "source": [
    "missing_stats_df_label = dtex.missing_stats(data_label)\n",
    "display(missing_stats_df_label)\n",
    "dtex.nullity_matrix([data_label], include_all = False)"
   ]
  },
  {
   "cell_type": "code",
   "execution_count": 10,
   "metadata": {},
   "outputs": [],
   "source": [
    "data_nolabel_v = data_nolabel.drop(columns=['Var1', 'Var66'])\n",
    "data_nolabel_id = data_nolabel['Var1']\n",
    "\n",
    "data_label_v = data_label.drop(columns=['Var1', 'Var66'])\n",
    "data_label_id = data_label['Var1']\n",
    "\n",
    "data_nolabel_v_f = data_nolabel_v.fillna(data_nolabel_v.mean())\n",
    "data_label_v_f = data_label_v.fillna(data_label_v.mean())"
   ]
  },
  {
   "cell_type": "code",
   "execution_count": 11,
   "metadata": {},
   "outputs": [],
   "source": [
    "data_train_all_id = data_label['Var1']\n",
    "data_train_all = data_label.drop(columns=['Var1'])"
   ]
  },
  {
   "cell_type": "code",
   "execution_count": 12,
   "metadata": {},
   "outputs": [],
   "source": [
    "imp_mean_dfs = data_train_all.fillna(data_train_all.mean())\n",
    "imp_mode_dfs = data_train_all.fillna(data_train_all.mode().iloc[0])"
   ]
  },
  {
   "cell_type": "code",
   "execution_count": 54,
   "metadata": {},
   "outputs": [],
   "source": [
    "feature_important = ['Var28', 'Var22', 'Var25', 'Var7', 'Var27', 'Var17', 'Var35', 'Var30',\n",
    "       'Var6', 'Var63', 'Var38', 'Var13', 'Var40', 'Var14', 'Var56', 'Var43',\n",
    "       'Var65', 'Var3', 'Var31', 'Var26', 'Var11', 'Var36', 'Var33', 'Var59',\n",
    "       'Var12', 'Var47', 'Var16', 'Var23', 'Var21', 'Var29', 'Var10', 'Var61',\n",
    "       'Var34', 'Var60', 'Var48', 'Var39', 'Var18', 'Var57', 'Var51', 'Var37',\n",
    "       'Var55', 'Var2', 'Var32', 'Var54', 'Var64', 'Var62', 'Var41', 'Var19',\n",
    "       'Var45', 'Var20', 'Var58', 'Var5', 'Var15', 'Var42', 'Var24', 'Var52',\n",
    "       'Var49', 'Var46', 'Var44', 'Var4', 'Var8', 'Var50', 'Var53', 'Var9']"
   ]
  },
  {
   "cell_type": "code",
   "execution_count": 57,
   "metadata": {},
   "outputs": [],
   "source": [
    "X_cluster = data_nolabel_v_f[important_features_v].values\n",
    "X_cluster = preprocessing.MinMaxScaler().fit_transform(X_cluster)"
   ]
  },
  {
   "cell_type": "code",
   "execution_count": null,
   "metadata": {},
   "outputs": [],
   "source": [
    "from sklearn.cluster import DBSCAN\n",
    "\n",
    "cluster = DBSCAN(eps=0.1, min_samples=5).fit(X_cluster)\n",
    "labels = cluster.labels_\n",
    "#confusion_matrix(imp_mean_dfs['Var66'].values, labels)\n",
    "y_pred = pd.DataFrame(labels, columns=[\"Var66\"])\n",
    "#print(silhouette_score(X_cluster, labels))\n",
    "# y_pred.loc[y_pred['Var66'] != 2, 'Var66'] = 0\n",
    "# y_pred.loc[y_pred['Var66'] == 2, 'Var66'] = 1\n",
    "y_pred['Var66'].value_counts()"
   ]
  },
  {
   "cell_type": "code",
   "execution_count": null,
   "metadata": {},
   "outputs": [],
   "source": [
    "print(silhouette_score(X_cluster, labels))\n",
    "y_pred.loc[y_pred['Var66'] == -1, 'Var66'] = 0\n",
    "#y_pred.loc[y_pred['Var66'] == -1, 'Var66'] = 0\n",
    "#confusion_matrix(data_label['Var66'].values, y_pred['Var66'].values)"
   ]
  },
  {
   "cell_type": "code",
   "execution_count": null,
   "metadata": {},
   "outputs": [],
   "source": [
    "# from sklearn.cluster import KMeans\n",
    "\n",
    "# cluster = KMeans(n_clusters=2, random_state=0).fit(X_cluster)\n",
    "# labels = cluster.labels_\n",
    "# #confusion_matrix(data_nolabel['Var66'].values, labels)\n",
    "# y_pred = pd.DataFrame(labels, columns=[\"Var66\"])\n",
    "# print(silhouette_score(X_cluster, labels))\n",
    "# # y_pred.loc[y_pred['Var66'] != 2, 'Var66'] = 0\n",
    "# # y_pred.loc[y_pred['Var66'] == 2, 'Var66'] = 1\n",
    "# y_pred['Var66'].value_counts()"
   ]
  },
  {
   "cell_type": "code",
   "execution_count": null,
   "metadata": {},
   "outputs": [],
   "source": [
    "# from sklearn.cluster import AgglomerativeClustering\n",
    "\n",
    "# cluster = AgglomerativeClustering(linkage='ward', n_clusters=2).fit(X_cluster)\n",
    "# labels = cluster.labels_\n",
    "# #confusion_matrix(imp_mean_dfs['Var66'].values, labels)\n",
    "# y_pred = pd.DataFrame(labels, columns=[\"Var66\"])\n",
    "# print(silhouette_score(X_cluster, labels))\n",
    "# # y_pred.loc[y_pred['Var66'] != 2, 'Var66'] = 0\n",
    "# # y_pred.loc[y_pred['Var66'] == 2, 'Var66'] = 1\n",
    "# y_pred['Var66'].value_counts()"
   ]
  },
  {
   "cell_type": "code",
   "execution_count": null,
   "metadata": {},
   "outputs": [],
   "source": [
    "x_scale = preprocessing.MinMaxScaler().fit_transform(data_label_v_f.iloc[:,:].values)\n",
    "x_scale_no = preprocessing.MinMaxScaler().fit_transform(data_nolabel_v_f.iloc[:,:].values)"
   ]
  },
  {
   "cell_type": "code",
   "execution_count": null,
   "metadata": {},
   "outputs": [],
   "source": [
    "df_x_scale = pd.DataFrame(x_scale)\n",
    "df_label_id = pd.DataFrame(data_label_id.reset_index(drop=True))\n",
    "df_label_y = pd.DataFrame(data_label['Var66'].reset_index(drop=True))\n",
    "data_label_all = pd.concat([df_label_id, df_x_scale, df_label_y], axis=1)\n",
    "data_label_all.columns = data_all.columns\n",
    "\n",
    "df_x_scale_no = pd.DataFrame(x_scale_no)\n",
    "df_nolabel_id = pd.DataFrame(data_nolabel_id.reset_index(drop=True))\n",
    "data_nolabel_pred = pd.concat([df_nolabel_id, df_x_scale_no, y_pred], axis=1)\n",
    "data_nolabel_pred.columns = data_all.columns"
   ]
  },
  {
   "cell_type": "code",
   "execution_count": null,
   "metadata": {},
   "outputs": [],
   "source": [
    "data_tran_all  = pd.concat([data_label_all, data_nolabel_pred], axis=0)"
   ]
  },
  {
   "cell_type": "code",
   "execution_count": null,
   "metadata": {},
   "outputs": [],
   "source": []
  },
  {
   "cell_type": "code",
   "execution_count": null,
   "metadata": {},
   "outputs": [],
   "source": [
    "os_dfs_dict = OrderedDict()\n",
    "\n",
    "os_dfs_dict['mean'] = pre.oversample_smote(data_tran_all, columns = data_tran_all.columns, verbose=True)"
   ]
  },
  {
   "cell_type": "code",
   "execution_count": null,
   "metadata": {},
   "outputs": [],
   "source": [
    "x_test_business_id = x_test_o['Var1']\n",
    "x_test = x_test_o.drop(columns=['Var1'])\n",
    "x_test_f = x_test.fillna(x_test.mean())\n",
    "x_test_f = preprocessing.MinMaxScaler().fit_transform(x_test_f.values)\n"
   ]
  },
  {
   "cell_type": "code",
   "execution_count": null,
   "metadata": {},
   "outputs": [],
   "source": [
    "best_period = os_dfs_dict['mean'][0]\n",
    "X = best_period.iloc[:,1:-1].values\n",
    "y = best_period[\"Var66\"].values\n",
    "\n",
    "# random_forest_classifier_sklearn_roc_all = RandomForestClassifier(criterion=\"gini\", \n",
    "#                                                           n_estimators = 10,\n",
    "#                                                           max_features = \"sqrt\", \n",
    "#                                                           random_state = 94)\n",
    "\n",
    "# random_forest_classifier_sklearn_roc_all.fit(X, y)\n",
    "# y_pred_dt = random_forest_classifier_sklearn_roc_all.predict(x_test_f)\n",
    "\n",
    "bb_classifier_roc_all = BalancedBaggingClassifier(base_estimator = RandomForestClassifier(criterion='gini'), \n",
    "                                          n_estimators = 15, bootstrap = True, random_state=42)\n",
    "\n",
    "bb_classifier_roc_all.fit(X, y)\n",
    "y_pred_dt = bb_classifier_roc_all.predict(x_test_f)\n"
   ]
  },
  {
   "cell_type": "code",
   "execution_count": null,
   "metadata": {},
   "outputs": [],
   "source": [
    "df_y = pd.DataFrame(y_pred_dt, columns=[\"Is_Bankrupted\"])\n",
    "upload = pd.concat([x_test_business_id, df_y], axis=1)\n",
    "df_y[\"Is_Bankrupted\"].value_counts()"
   ]
  },
  {
   "cell_type": "code",
   "execution_count": null,
   "metadata": {},
   "outputs": [],
   "source": [
    "upload = upload.astype('int32')\n",
    "upload.columns=['Business_ID', 'Is_Bankrupted']\n",
    "upload.to_csv('3_25_2.csv', index=False)"
   ]
  },
  {
   "cell_type": "code",
   "execution_count": null,
   "metadata": {},
   "outputs": [],
   "source": [
    "f2=sns.pairplot(data_label_all, vars=data_all.columns[1:-1], hue='Outcome')"
   ]
  },
  {
   "cell_type": "code",
   "execution_count": null,
   "metadata": {},
   "outputs": [],
   "source": [
    "f3=sb.clustermap(data_label_all.corr(), annot=True)"
   ]
  },
  {
   "cell_type": "code",
   "execution_count": null,
   "metadata": {},
   "outputs": [],
   "source": []
  }
 ],
 "metadata": {
  "kernelspec": {
   "display_name": "Python 3",
   "language": "python",
   "name": "python3"
  },
  "language_info": {
   "codemirror_mode": {
    "name": "ipython",
    "version": 3
   },
   "file_extension": ".py",
   "mimetype": "text/x-python",
   "name": "python",
   "nbconvert_exporter": "python",
   "pygments_lexer": "ipython3",
   "version": "3.7.1"
  }
 },
 "nbformat": 4,
 "nbformat_minor": 2
}
