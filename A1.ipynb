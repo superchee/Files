{
 "cells": [
  {
   "cell_type": "code",
   "execution_count": 1,
   "metadata": {},
   "outputs": [],
   "source": [
    "from collections import defaultdict"
   ]
  },
  {
   "cell_type": "code",
   "execution_count": 2,
   "metadata": {},
   "outputs": [],
   "source": [
    "def create_graph():\n",
    "    with open('graph.txt', 'r') as g_file:\n",
    "        K = int(g_file.readline())\n",
    "        graph = {i: [] for i in range(1, K+1)}\n",
    "        for line in g_file:\n",
    "            i, j = map(int, line.split())\n",
    "            graph[i].append(j)\n",
    "    return graph"
   ]
  },
  {
   "cell_type": "code",
   "execution_count": 3,
   "metadata": {},
   "outputs": [],
   "source": [
    "def read_queries():\n",
    "    with open('queries.txt', 'r') as q_file:\n",
    "        queries = []\n",
    "        for line in q_file:\n",
    "            X, Y, Z = [], [], []\n",
    "            x, y, z = line.split()\n",
    "            X.extend(map(int, filter(bool, x[1:-1].split(','))))\n",
    "            Y.extend(map(int, filter(bool, y[1:-1].split(','))))\n",
    "            Z.extend(map(int, filter(bool, z[1:-1].split(','))))\n",
    "            queries.append([X, Y, Z])\n",
    "    return queries"
   ]
  },
  {
   "cell_type": "code",
   "execution_count": 4,
   "metadata": {},
   "outputs": [],
   "source": [
    "def get_predecessors(node):\n",
    "    pre_node = []\n",
    "    for parent, child in graph.items():\n",
    "        if node in child:\n",
    "            pre_node.append(parent)\n",
    "    return pre_node"
   ]
  },
  {
   "cell_type": "code",
   "execution_count": 5,
   "metadata": {},
   "outputs": [],
   "source": [
    "def get_successors(node):\n",
    "    for parent, child in graph.items():\n",
    "        if node == parent:\n",
    "            return child"
   ]
  },
  {
   "cell_type": "code",
   "execution_count": 67,
   "metadata": {},
   "outputs": [],
   "source": [
    "def is_independent(graph, X, Y, Z):\n",
    "    #phase 1:\n",
    "    L = Z.copy()\n",
    "    A = []\n",
    "    while len(L) > 0:\n",
    "        C = L.pop()\n",
    "        if C not in A:\n",
    "            for node in get_predecessors(C):\n",
    "                L.append(node)\n",
    "            A.append(C)\n",
    "    #print(A)\n",
    "    #print(Z)\n",
    "    #phase 2:\n",
    "    to_be_visited = set()\n",
    "    visited = defaultdict(lambda: False)\n",
    "    top_marked = defaultdict(lambda: False)\n",
    "    bottom_marked = defaultdict(lambda: False)\n",
    "    \n",
    "    for source in X:\n",
    "        to_be_visited.add((source, 'child'))\n",
    "    \n",
    "    while (len(to_be_visited)>0):\n",
    "        current_node = to_be_visited.pop()\n",
    "        node_name = current_node[0]\n",
    "        came_from = current_node[1]\n",
    "        visited[node_name] = True\n",
    "        \n",
    "        if (node_name in Y):\n",
    "            #print(node_name)\n",
    "            return False\n",
    "        \n",
    "        if ((came_from == 'child') and (node_name not in Z)):\n",
    "            if (top_marked[node_name] == False):\n",
    "                top_marked[node_name] = True\n",
    "                for parent in get_predecessors(node_name):\n",
    "                    to_be_visited.add((parent, 'child'))\n",
    "            if (bottom_marked[node_name] == False):\n",
    "                bottom_marked[node_name] = True\n",
    "                for child in get_successors(node_name):\n",
    "                    if (visited[child]==False):\n",
    "                        to_be_visited.add((child, 'parent'))\n",
    "        if (came_from=='parent'):\n",
    "            if ((node_name in A) and (top_marked[node_name]==False)):\n",
    "                top_marked[node_name] = True\n",
    "                for parent in get_predecessors(node_name):\n",
    "                    if (visited[parent]==False):\n",
    "                        to_be_visited.add((parent, 'child'))\n",
    "            if ((node_name not in Z) and (bottom_marked[node_name]==False)):\n",
    "                bottom_marked[node_name]=True\n",
    "                for child in get_successors(node_name):\n",
    "                    to_be_visited.add((child, 'parent'))\n",
    "    return True"
   ]
  },
  {
   "cell_type": "code",
   "execution_count": 68,
   "metadata": {},
   "outputs": [
    {
     "name": "stdout",
     "output_type": "stream",
     "text": [
      "0\n",
      "0\n",
      "1\n",
      "0\n",
      "1\n",
      "0\n",
      "1\n",
      "0\n",
      "1\n"
     ]
    }
   ],
   "source": [
    "graph = create_graph()\n",
    "Qs = read_queries()\n",
    "for X, Y, Z in Qs:\n",
    "    output = 1 if is_independent(graph, X, Y, Z) else 0\n",
    "    print(output)"
   ]
  },
  {
   "cell_type": "code",
   "execution_count": null,
   "metadata": {},
   "outputs": [],
   "source": []
  }
 ],
 "metadata": {
  "kernelspec": {
   "display_name": "Python 3",
   "language": "python",
   "name": "python3"
  },
  "language_info": {
   "codemirror_mode": {
    "name": "ipython",
    "version": 3
   },
   "file_extension": ".py",
   "mimetype": "text/x-python",
   "name": "python",
   "nbconvert_exporter": "python",
   "pygments_lexer": "ipython3",
   "version": "3.7.1"
  }
 },
 "nbformat": 4,
 "nbformat_minor": 2
}
